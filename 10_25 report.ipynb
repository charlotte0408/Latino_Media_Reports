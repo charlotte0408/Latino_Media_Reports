{
 "cells": [
  {
   "cell_type": "code",
   "execution_count": 1,
   "metadata": {},
   "outputs": [],
   "source": [
    "import pandas as pd\n",
    "import numpy as np\n",
    "\n",
    "import warnings\n",
    "warnings.filterwarnings('ignore')\n",
    "\n",
    "import re"
   ]
  },
  {
   "cell_type": "code",
   "execution_count": 2,
   "metadata": {},
   "outputs": [],
   "source": [
    "df = pd.read_csv(\"For Python_Summer'19 Shows by Network - Network.csv\")\n",
    "df_lead = pd.read_csv(\"For Python_Country of Origin_Shows Summer '19 - Leads.csv\")\n",
    "df_director = pd.read_csv(\"For Python_Country of Origin_Shows Summer '19 - Directors.csv\")\n",
    "df_runner = pd.read_csv(\"For Python_Country of Origin_Shows Summer '19 - Showrunners.csv\")"
   ]
  },
  {
   "cell_type": "code",
   "execution_count": 3,
   "metadata": {},
   "outputs": [
    {
     "data": {
      "text/html": [
       "<div>\n",
       "<style scoped>\n",
       "    .dataframe tbody tr th:only-of-type {\n",
       "        vertical-align: middle;\n",
       "    }\n",
       "\n",
       "    .dataframe tbody tr th {\n",
       "        vertical-align: top;\n",
       "    }\n",
       "\n",
       "    .dataframe thead th {\n",
       "        text-align: right;\n",
       "    }\n",
       "</style>\n",
       "<table border=\"1\" class=\"dataframe\">\n",
       "  <thead>\n",
       "    <tr style=\"text-align: right;\">\n",
       "      <th></th>\n",
       "      <th>Network</th>\n",
       "      <th>Title</th>\n",
       "      <th>Genre</th>\n",
       "      <th>Shows/Films with Latino Lead and/or co-lead \n",
       "Actors/Actresses 0=no 1=yes</th>\n",
       "      <th>Names of Latino Lead Actors/Actresses</th>\n",
       "      <th>Latino \"Showrunner/Lead Writer\"? no= 0 yes=1</th>\n",
       "      <th>Names of Latino lead writers/show runners</th>\n",
       "      <th>Latino Directors? 0= no or 1</th>\n",
       "      <th>Names of Latino Directors</th>\n",
       "      <th>Unnamed: 9</th>\n",
       "    </tr>\n",
       "  </thead>\n",
       "  <tbody>\n",
       "    <tr>\n",
       "      <th>0</th>\n",
       "      <td>A&amp;E</td>\n",
       "      <td>**Hero Ink</td>\n",
       "      <td>Alternative</td>\n",
       "      <td>0.00</td>\n",
       "      <td>NaN</td>\n",
       "      <td>0.00</td>\n",
       "      <td>NaN</td>\n",
       "      <td>0.00</td>\n",
       "      <td>NaN</td>\n",
       "      <td>NaN</td>\n",
       "    </tr>\n",
       "    <tr>\n",
       "      <th>1</th>\n",
       "      <td>A&amp;E</td>\n",
       "      <td>Ghost Hunters Season 12 (Revival)</td>\n",
       "      <td>Alternative</td>\n",
       "      <td>0.00</td>\n",
       "      <td>NaN</td>\n",
       "      <td>0.00</td>\n",
       "      <td>NaN</td>\n",
       "      <td>0.00</td>\n",
       "      <td>NaN</td>\n",
       "      <td>NaN</td>\n",
       "    </tr>\n",
       "    <tr>\n",
       "      <th>2</th>\n",
       "      <td>A&amp;E</td>\n",
       "      <td>Psychic Kids Season 4</td>\n",
       "      <td>Alternative</td>\n",
       "      <td>0.00</td>\n",
       "      <td>NaN</td>\n",
       "      <td>0.00</td>\n",
       "      <td>NaN</td>\n",
       "      <td>0.00</td>\n",
       "      <td>NaN</td>\n",
       "      <td>NaN</td>\n",
       "    </tr>\n",
       "    <tr>\n",
       "      <th>3</th>\n",
       "      <td>A&amp;E</td>\n",
       "      <td>60 Days In</td>\n",
       "      <td>Alternative</td>\n",
       "      <td>0.00</td>\n",
       "      <td>NaN</td>\n",
       "      <td>0.00</td>\n",
       "      <td>NaN</td>\n",
       "      <td>NaN</td>\n",
       "      <td>NaN</td>\n",
       "      <td>NaN</td>\n",
       "    </tr>\n",
       "    <tr>\n",
       "      <th>4</th>\n",
       "      <td>A&amp;E</td>\n",
       "      <td>Addiction Unplugged</td>\n",
       "      <td>Alternative</td>\n",
       "      <td>0.00</td>\n",
       "      <td>NaN</td>\n",
       "      <td>0.00</td>\n",
       "      <td>NaN</td>\n",
       "      <td>0.00</td>\n",
       "      <td>NaN</td>\n",
       "      <td>NaN</td>\n",
       "    </tr>\n",
       "  </tbody>\n",
       "</table>\n",
       "</div>"
      ],
      "text/plain": [
       "  Network                              Title         Genre  \\\n",
       "0     A&E                          **Hero Ink  Alternative   \n",
       "1     A&E  Ghost Hunters Season 12 (Revival)   Alternative   \n",
       "2     A&E              Psychic Kids Season 4   Alternative   \n",
       "3     A&E                          60 Days In  Alternative   \n",
       "4     A&E                 Addiction Unplugged  Alternative   \n",
       "\n",
       "  Shows/Films with Latino Lead and/or co-lead \\nActors/Actresses 0=no 1=yes  \\\n",
       "0                                               0.00                          \n",
       "1                                               0.00                          \n",
       "2                                               0.00                          \n",
       "3                                               0.00                          \n",
       "4                                               0.00                          \n",
       "\n",
       "  Names of Latino Lead Actors/Actresses  \\\n",
       "0                                   NaN   \n",
       "1                                   NaN   \n",
       "2                                   NaN   \n",
       "3                                   NaN   \n",
       "4                                   NaN   \n",
       "\n",
       "  Latino \"Showrunner/Lead Writer\"? no= 0 yes=1  \\\n",
       "0                                         0.00   \n",
       "1                                         0.00   \n",
       "2                                         0.00   \n",
       "3                                         0.00   \n",
       "4                                         0.00   \n",
       "\n",
       "  Names of Latino lead writers/show runners  Latino Directors? 0= no or 1  \\\n",
       "0                                        NaN                         0.00   \n",
       "1                                        NaN                         0.00   \n",
       "2                                        NaN                         0.00   \n",
       "3                                        NaN                          NaN   \n",
       "4                                        NaN                         0.00   \n",
       "\n",
       "  Names of Latino Directors   Unnamed: 9  \n",
       "0                        NaN         NaN  \n",
       "1                        NaN         NaN  \n",
       "2                        NaN         NaN  \n",
       "3                        NaN         NaN  \n",
       "4                        NaN         NaN  "
      ]
     },
     "execution_count": 3,
     "metadata": {},
     "output_type": "execute_result"
    }
   ],
   "source": [
    "df.head()"
   ]
  },
  {
   "cell_type": "code",
   "execution_count": 4,
   "metadata": {},
   "outputs": [],
   "source": [
    "try:\n",
    "    df = df.drop(df.columns[9], axis = 1)\n",
    "except:\n",
    "    print \"drop error\""
   ]
  },
  {
   "cell_type": "code",
   "execution_count": 5,
   "metadata": {},
   "outputs": [],
   "source": [
    "df.columns = ['network', 'title', 'genre', 'topliners', 'name_topliners', 'showrunners', 'name_showrunners', 'directors', 'name_directors']"
   ]
  },
  {
   "cell_type": "code",
   "execution_count": 6,
   "metadata": {},
   "outputs": [],
   "source": [
    "df = df[pd.notnull(df['title'])]"
   ]
  },
  {
   "cell_type": "code",
   "execution_count": 7,
   "metadata": {},
   "outputs": [],
   "source": [
    "df['genre'] = df['genre'].astype(str)"
   ]
  },
  {
   "cell_type": "code",
   "execution_count": 8,
   "metadata": {},
   "outputs": [
    {
     "data": {
      "text/plain": [
       "0.00    316\n",
       "1.00     37\n",
       "0        17\n",
       "1         2\n",
       "Name: topliners, dtype: int64"
      ]
     },
     "execution_count": 8,
     "metadata": {},
     "output_type": "execute_result"
    }
   ],
   "source": [
    "df['topliners'].value_counts()"
   ]
  },
  {
   "cell_type": "code",
   "execution_count": 9,
   "metadata": {},
   "outputs": [
    {
     "data": {
      "text/plain": [
       "0.0    333\n",
       "1.0     39\n",
       "Name: topliners, dtype: int64"
      ]
     },
     "execution_count": 9,
     "metadata": {},
     "output_type": "execute_result"
    }
   ],
   "source": [
    "df['topliners'] = pd.to_numeric(df['topliners'])\n",
    "df['topliners'].value_counts()"
   ]
  },
  {
   "cell_type": "code",
   "execution_count": 10,
   "metadata": {},
   "outputs": [
    {
     "data": {
      "text/plain": [
       "0.00    353\n",
       "0         6\n",
       "1.00      6\n",
       "Name: showrunners, dtype: int64"
      ]
     },
     "execution_count": 10,
     "metadata": {},
     "output_type": "execute_result"
    }
   ],
   "source": [
    "df['showrunners'].value_counts()"
   ]
  },
  {
   "cell_type": "code",
   "execution_count": 11,
   "metadata": {},
   "outputs": [
    {
     "data": {
      "text/plain": [
       "0.0    359\n",
       "1.0      6\n",
       "Name: showrunners, dtype: int64"
      ]
     },
     "execution_count": 11,
     "metadata": {},
     "output_type": "execute_result"
    }
   ],
   "source": [
    "df['showrunners'] = pd.to_numeric(df['showrunners'])\n",
    "df['showrunners'].value_counts()"
   ]
  },
  {
   "cell_type": "code",
   "execution_count": 12,
   "metadata": {},
   "outputs": [
    {
     "data": {
      "text/plain": [
       "0.00    218\n",
       "1.00     19\n",
       "0         4\n",
       "Name: directors, dtype: int64"
      ]
     },
     "execution_count": 12,
     "metadata": {},
     "output_type": "execute_result"
    }
   ],
   "source": [
    "df['directors'].value_counts()"
   ]
  },
  {
   "cell_type": "code",
   "execution_count": 13,
   "metadata": {},
   "outputs": [
    {
     "data": {
      "text/plain": [
       "0.0    222\n",
       "1.0     19\n",
       "Name: directors, dtype: int64"
      ]
     },
     "execution_count": 13,
     "metadata": {},
     "output_type": "execute_result"
    }
   ],
   "source": [
    "df['directors'] = pd.to_numeric(df['directors'])\n",
    "df['directors'].value_counts()"
   ]
  },
  {
   "cell_type": "code",
   "execution_count": 14,
   "metadata": {},
   "outputs": [],
   "source": [
    "df.loc[df[df['genre'] == 'Docu-series'].index,'genre'] = 'Docuseries'\n",
    "df.loc[df[df['genre'] == 'Docu-series\\n'].index,'genre'] = 'Docuseries'"
   ]
  },
  {
   "cell_type": "code",
   "execution_count": 15,
   "metadata": {},
   "outputs": [],
   "source": [
    "df['genre']= df['genre'].apply(lambda x: x.strip())\n",
    "df['genre'] = df['genre'].apply(lambda x: x.lower())"
   ]
  },
  {
   "cell_type": "code",
   "execution_count": 39,
   "metadata": {},
   "outputs": [
    {
     "data": {
      "text/html": [
       "<div>\n",
       "<style scoped>\n",
       "    .dataframe tbody tr th:only-of-type {\n",
       "        vertical-align: middle;\n",
       "    }\n",
       "\n",
       "    .dataframe tbody tr th {\n",
       "        vertical-align: top;\n",
       "    }\n",
       "\n",
       "    .dataframe thead th {\n",
       "        text-align: right;\n",
       "    }\n",
       "</style>\n",
       "<table border=\"1\" class=\"dataframe\">\n",
       "  <thead>\n",
       "    <tr style=\"text-align: right;\">\n",
       "      <th></th>\n",
       "      <th>Types</th>\n",
       "      <th>Percent of Latino Topliners</th>\n",
       "      <th>Percent of Latino Showrunners</th>\n",
       "      <th>Percent of Latino Directors</th>\n",
       "    </tr>\n",
       "  </thead>\n",
       "  <tbody>\n",
       "    <tr>\n",
       "      <th>0</th>\n",
       "      <td>Overall</td>\n",
       "      <td>10.48%</td>\n",
       "      <td>1.64%</td>\n",
       "      <td>7.88%</td>\n",
       "    </tr>\n",
       "  </tbody>\n",
       "</table>\n",
       "</div>"
      ],
      "text/plain": [
       "     Types Percent of Latino Topliners Percent of Latino Showrunners  \\\n",
       "0  Overall                      10.48%                         1.64%   \n",
       "\n",
       "  Percent of Latino Directors  \n",
       "0                       7.88%  "
      ]
     },
     "execution_count": 39,
     "metadata": {},
     "output_type": "execute_result"
    }
   ],
   "source": [
    "df_shows = pd.DataFrame(columns = ['Types','Percent of Latino Topliners', 'Percent of Latino Showrunners', 'Percent of Latino Directors'])\n",
    "df_shows = df_shows.append({'Types': 'Overall',\n",
    "                            'Percent of Latino Topliners': str(round(np.mean(df['topliners']*100),2)) + '%', \\\n",
    "                            'Percent of Latino Showrunners': str(round(np.mean(df['showrunners']*100),2)) + '%', \\\n",
    "                            'Percent of Latino Directors': str(round(np.mean(df['directors']*100),2)) + '%'}, ignore_index=True)       \n",
    "df_shows"
   ]
  },
  {
   "cell_type": "code",
   "execution_count": 17,
   "metadata": {},
   "outputs": [
    {
     "data": {
      "text/plain": [
       "alternative       174\n",
       "drama              98\n",
       "docuseries         42\n",
       "comedy             35\n",
       "kids               21\n",
       "reality series      1\n",
       "reality             1\n",
       "talk-show           1\n",
       "Name: genre, dtype: int64"
      ]
     },
     "execution_count": 17,
     "metadata": {},
     "output_type": "execute_result"
    }
   ],
   "source": [
    "df['genre'].value_counts()"
   ]
  },
  {
   "cell_type": "markdown",
   "metadata": {},
   "source": [
    "## Question: How does Latino representation measure up by genre within shows? \n"
   ]
  },
  {
   "cell_type": "code",
   "execution_count": 18,
   "metadata": {},
   "outputs": [],
   "source": [
    "def Genre_representation(g):\n",
    "    df_temp = df[df['genre'] == g]\n",
    "    return np.mean(df_temp['topliners']), np.mean(df_temp['showrunners']), np.mean(df_temp['directors']) "
   ]
  },
  {
   "cell_type": "code",
   "execution_count": 45,
   "metadata": {},
   "outputs": [],
   "source": [
    "genres = ['comedy', 'drama', 'docuseries', 'alternative', 'kids']\n",
    "df_genre_repre = pd.DataFrame(columns = ['Types', 'Percent of Latino Topliners', 'Percent of Latino Showrunners', 'Percent of Latino Directors'])"
   ]
  },
  {
   "cell_type": "code",
   "execution_count": 46,
   "metadata": {},
   "outputs": [
    {
     "name": "stdout",
     "output_type": "stream",
     "text": [
      "(0.2571428571428571, 0.02857142857142857, 0.08571428571428572)\n",
      "(0.1836734693877551, 0.030927835051546393, 0.17721518987341772)\n",
      "(0.023809523809523808, 0.023809523809523808, 0.0)\n",
      "(0.046242774566473986, 0.0, 0.0)\n",
      "(0.14285714285714285, 0.047619047619047616, 0.09523809523809523)\n"
     ]
    }
   ],
   "source": [
    "for g in genres:\n",
    "    print Genre_representation(g)\n",
    "    df_genre_repre = df_genre_repre.append({'Types': g, \\\n",
    "                            'Percent of Latino Topliners': str(round(Genre_representation(g)[0]*100,2)) + '%', \\\n",
    "                            'Percent of Latino Showrunners': str(round(Genre_representation(g)[1]*100,2)) + '%', \\\n",
    "                            'Percent of Latino Directors': str(round(Genre_representation(g)[2]*100,2)) + '%'\n",
    "                                           }, ignore_index=True)"
   ]
  },
  {
   "cell_type": "code",
   "execution_count": 47,
   "metadata": {},
   "outputs": [
    {
     "data": {
      "text/plain": [
       "0.0    65\n",
       "1.0    14\n",
       "Name: directors, dtype: int64"
      ]
     },
     "execution_count": 47,
     "metadata": {},
     "output_type": "execute_result"
    }
   ],
   "source": [
    "g = 'drama'\n",
    "df_temp = df[df['genre'] == g]\n",
    "df_temp['directors'].value_counts()"
   ]
  },
  {
   "cell_type": "code",
   "execution_count": 48,
   "metadata": {},
   "outputs": [
    {
     "data": {
      "text/html": [
       "<div>\n",
       "<style scoped>\n",
       "    .dataframe tbody tr th:only-of-type {\n",
       "        vertical-align: middle;\n",
       "    }\n",
       "\n",
       "    .dataframe tbody tr th {\n",
       "        vertical-align: top;\n",
       "    }\n",
       "\n",
       "    .dataframe thead th {\n",
       "        text-align: right;\n",
       "    }\n",
       "</style>\n",
       "<table border=\"1\" class=\"dataframe\">\n",
       "  <thead>\n",
       "    <tr style=\"text-align: right;\">\n",
       "      <th></th>\n",
       "      <th>Types</th>\n",
       "      <th>Percent of Latino Topliners</th>\n",
       "      <th>Percent of Latino Showrunners</th>\n",
       "      <th>Percent of Latino Directors</th>\n",
       "    </tr>\n",
       "  </thead>\n",
       "  <tbody>\n",
       "    <tr>\n",
       "      <th>0</th>\n",
       "      <td>comedy</td>\n",
       "      <td>25.71%</td>\n",
       "      <td>2.86%</td>\n",
       "      <td>8.57%</td>\n",
       "    </tr>\n",
       "    <tr>\n",
       "      <th>1</th>\n",
       "      <td>drama</td>\n",
       "      <td>18.37%</td>\n",
       "      <td>3.09%</td>\n",
       "      <td>17.72%</td>\n",
       "    </tr>\n",
       "    <tr>\n",
       "      <th>2</th>\n",
       "      <td>docuseries</td>\n",
       "      <td>2.38%</td>\n",
       "      <td>2.38%</td>\n",
       "      <td>0.0%</td>\n",
       "    </tr>\n",
       "    <tr>\n",
       "      <th>3</th>\n",
       "      <td>alternative</td>\n",
       "      <td>4.62%</td>\n",
       "      <td>0.0%</td>\n",
       "      <td>0.0%</td>\n",
       "    </tr>\n",
       "    <tr>\n",
       "      <th>4</th>\n",
       "      <td>kids</td>\n",
       "      <td>14.29%</td>\n",
       "      <td>4.76%</td>\n",
       "      <td>9.52%</td>\n",
       "    </tr>\n",
       "  </tbody>\n",
       "</table>\n",
       "</div>"
      ],
      "text/plain": [
       "         Types Percent of Latino Topliners Percent of Latino Showrunners  \\\n",
       "0       comedy                      25.71%                         2.86%   \n",
       "1        drama                      18.37%                         3.09%   \n",
       "2   docuseries                       2.38%                         2.38%   \n",
       "3  alternative                       4.62%                          0.0%   \n",
       "4         kids                      14.29%                         4.76%   \n",
       "\n",
       "  Percent of Latino Directors  \n",
       "0                       8.57%  \n",
       "1                      17.72%  \n",
       "2                        0.0%  \n",
       "3                        0.0%  \n",
       "4                       9.52%  "
      ]
     },
     "execution_count": 48,
     "metadata": {},
     "output_type": "execute_result"
    }
   ],
   "source": [
    "df_genre_repre"
   ]
  },
  {
   "cell_type": "markdown",
   "metadata": {},
   "source": [
    "## Question: How does Latino representation measure up by Network Type? "
   ]
  },
  {
   "cell_type": "code",
   "execution_count": 23,
   "metadata": {},
   "outputs": [],
   "source": [
    "df['network'] = df['network'].astype(str)\n",
    "df['network'] = df['network'].apply(lambda x: x.lower())\n",
    "df['network'] = df['network'].apply(lambda x: x.strip())"
   ]
  },
  {
   "cell_type": "code",
   "execution_count": 24,
   "metadata": {},
   "outputs": [],
   "source": [
    "broad = ['nbc', 'cbs', 'abc', 'cw', 'fox']\n",
    "ott = ['amazon', 'hulu', 'netflix']\n",
    "premium = ['hbo', 'cinemax', 'showtime', 'starz']"
   ]
  },
  {
   "cell_type": "code",
   "execution_count": 25,
   "metadata": {},
   "outputs": [],
   "source": [
    "df_broad = df[df['network'].isin(broad)]\n",
    "df_ott = df[df['network'].isin(ott)]\n",
    "df_premium = df[df['network'].isin(premium)]\n",
    "df_cable = df[(~df['network'].isin(ott))&(~df['network'].isin(broad))&(~df['network'].isin(premium))]"
   ]
  },
  {
   "cell_type": "code",
   "execution_count": 49,
   "metadata": {},
   "outputs": [],
   "source": [
    "df_network = pd.DataFrame(columns = ['Types', 'Percent of Latino Topliners', 'Percent of Latino Showrunners', 'Percent of Latino Directors'])\n",
    "df_network = df_network.append({'Types': 'BraodCast', \\\n",
    "                     'Percent of Latino Topliners': str(round(np.mean(df_broad['topliners']*100),2)) + '%', \\\n",
    "                     'Percent of Latino Showrunners': str(round(np.mean(df_broad['showrunners']*100),2)) + '%', \\\n",
    "                     'Percent of Latino Directors': str(round(np.mean(df_broad['directors']*100),2)) + '%',\n",
    "                                           }, ignore_index=True)\n",
    "df_network = df_network.append({'Types': 'Premium', \\\n",
    "                     'Percent of Latino Topliners': str(round(np.mean(df_premium['topliners']*100),2)) + '%', \\\n",
    "                     'Percent of Latino Showrunners': str(round(np.mean(df_premium['showrunners']*100),2)) + '%', \\\n",
    "                     'Percent of Latino Directors': str(round(np.mean(df_premium['directors']*100),2)) + '%',\n",
    "                                           }, ignore_index=True)\n",
    "df_network = df_network.append({'Types': 'OTT', \\\n",
    "                     'Percent of Latino Topliners': str(round(np.mean(df_ott['topliners']*100),2)) + '%', \\\n",
    "                     'Percent of Latino Showrunners': str(round(np.mean(df_ott['showrunners']*100),2)) + '%', \\\n",
    "                     'Percent of Latino Directors': str(round(np.mean(df_ott['directors']*100),2)) + '%',\n",
    "                                           }, ignore_index=True)\n",
    "df_network = df_network.append({'Types': 'Cable', \\\n",
    "                     'Percent of Latino Topliners': str(round(np.mean(df_cable['topliners']*100),2)) + '%', \\\n",
    "                     'Percent of Latino Showrunners': str(round(np.mean(df_cable['showrunners']*100),2)) + '%', \\\n",
    "                     'Percent of Latino Directors': str(round(np.mean(df_cable['directors']*100),2)) + '%',\n",
    "                                           }, ignore_index=True)\n"
   ]
  },
  {
   "cell_type": "code",
   "execution_count": 50,
   "metadata": {},
   "outputs": [
    {
     "data": {
      "text/plain": [
       "netflix                    58\n",
       "investigation discovery    25\n",
       "hgtv                       18\n",
       "travel channel             17\n",
       "food network               17\n",
       "cw                         15\n",
       "abc                        15\n",
       "tlc                        11\n",
       "hbo                        11\n",
       "vh1                        10\n",
       "amazon                     10\n",
       "discovery channel          10\n",
       "history                     9\n",
       "cbs                         8\n",
       "fox                         8\n",
       "discovery                   8\n",
       "usa                         8\n",
       "hulu                        8\n",
       "own                         7\n",
       "showtime                    7\n",
       "lifetime                    7\n",
       "nbc                         7\n",
       "bravo                       7\n",
       "paramount                   7\n",
       "comedy central              7\n",
       "amc                         7\n",
       "disney                      6\n",
       "a&e                         6\n",
       "mtv                         6\n",
       "fx                          5\n",
       "national geographic         5\n",
       "e!                          5\n",
       "starz                       5\n",
       "nickelodeon                 4\n",
       "freeform                    4\n",
       "hallmark                    3\n",
       "nan                         1\n",
       "nat geo                     1\n",
       "Name: network, dtype: int64"
      ]
     },
     "execution_count": 50,
     "metadata": {},
     "output_type": "execute_result"
    }
   ],
   "source": [
    "df['network'].value_counts()"
   ]
  },
  {
   "cell_type": "code",
   "execution_count": 51,
   "metadata": {},
   "outputs": [
    {
     "data": {
      "text/html": [
       "<div>\n",
       "<style scoped>\n",
       "    .dataframe tbody tr th:only-of-type {\n",
       "        vertical-align: middle;\n",
       "    }\n",
       "\n",
       "    .dataframe tbody tr th {\n",
       "        vertical-align: top;\n",
       "    }\n",
       "\n",
       "    .dataframe thead th {\n",
       "        text-align: right;\n",
       "    }\n",
       "</style>\n",
       "<table border=\"1\" class=\"dataframe\">\n",
       "  <thead>\n",
       "    <tr style=\"text-align: right;\">\n",
       "      <th></th>\n",
       "      <th>Types</th>\n",
       "      <th>Percent of Latino Topliners</th>\n",
       "      <th>Percent of Latino Showrunners</th>\n",
       "      <th>Percent of Latino Directors</th>\n",
       "    </tr>\n",
       "  </thead>\n",
       "  <tbody>\n",
       "    <tr>\n",
       "      <th>0</th>\n",
       "      <td>BraodCast</td>\n",
       "      <td>11.32%</td>\n",
       "      <td>0.0%</td>\n",
       "      <td>3.77%</td>\n",
       "    </tr>\n",
       "    <tr>\n",
       "      <th>1</th>\n",
       "      <td>Premium</td>\n",
       "      <td>17.39%</td>\n",
       "      <td>8.7%</td>\n",
       "      <td>17.39%</td>\n",
       "    </tr>\n",
       "    <tr>\n",
       "      <th>2</th>\n",
       "      <td>OTT</td>\n",
       "      <td>15.79%</td>\n",
       "      <td>1.32%</td>\n",
       "      <td>9.46%</td>\n",
       "    </tr>\n",
       "    <tr>\n",
       "      <th>3</th>\n",
       "      <td>Cable</td>\n",
       "      <td>7.73%</td>\n",
       "      <td>1.41%</td>\n",
       "      <td>6.59%</td>\n",
       "    </tr>\n",
       "  </tbody>\n",
       "</table>\n",
       "</div>"
      ],
      "text/plain": [
       "       Types Percent of Latino Topliners Percent of Latino Showrunners  \\\n",
       "0  BraodCast                      11.32%                          0.0%   \n",
       "1    Premium                      17.39%                          8.7%   \n",
       "2        OTT                      15.79%                         1.32%   \n",
       "3      Cable                       7.73%                         1.41%   \n",
       "\n",
       "  Percent of Latino Directors  \n",
       "0                       3.77%  \n",
       "1                      17.39%  \n",
       "2                       9.46%  \n",
       "3                       6.59%  "
      ]
     },
     "execution_count": 51,
     "metadata": {},
     "output_type": "execute_result"
    }
   ],
   "source": [
    "df_network"
   ]
  },
  {
   "cell_type": "markdown",
   "metadata": {},
   "source": [
    "## Question: US born or International born"
   ]
  },
  {
   "cell_type": "markdown",
   "metadata": {},
   "source": [
    "### shows"
   ]
  },
  {
   "cell_type": "code",
   "execution_count": 29,
   "metadata": {},
   "outputs": [
    {
     "data": {
      "text/plain": [
       "United States    6\n",
       "Mexico           2\n",
       "El Salvador      1\n",
       "Venezuela        1\n",
       "Guatemala        1\n",
       "Name: Country of Origin , dtype: int64"
      ]
     },
     "execution_count": 29,
     "metadata": {},
     "output_type": "execute_result"
    }
   ],
   "source": [
    "df_runner['Country of Origin '].value_counts()"
   ]
  },
  {
   "cell_type": "code",
   "execution_count": 30,
   "metadata": {},
   "outputs": [
    {
     "data": {
      "text/plain": [
       "United States         31\n",
       "Mexico                 6\n",
       "Dominican Republic     2\n",
       "Puerto Rico            2\n",
       "Brazil                 2\n",
       "Morocco                1\n",
       "El Salvador            1\n",
       "Cuba                   1\n",
       "Domincan Republic      1\n",
       "Guatemala              1\n",
       "Name: Country of Origin, dtype: int64"
      ]
     },
     "execution_count": 30,
     "metadata": {},
     "output_type": "execute_result"
    }
   ],
   "source": [
    "df_lead['Country of Origin'].value_counts()\n",
    "df_lead['Country of Origin'] = df_lead['Country of Origin'].apply(lambda x: x.strip())\n",
    "df_lead['Country of Origin'].value_counts()"
   ]
  },
  {
   "cell_type": "code",
   "execution_count": 31,
   "metadata": {},
   "outputs": [
    {
     "data": {
      "text/plain": [
       "United States    20\n",
       "Mexico            4\n",
       "Mexico            4\n",
       "Cuba              3\n",
       "Spain             1\n",
       "Colombia          1\n",
       "Venezuela         1\n",
       "Canada            1\n",
       "Name: Country of Origin, dtype: int64"
      ]
     },
     "execution_count": 31,
     "metadata": {},
     "output_type": "execute_result"
    }
   ],
   "source": [
    "df_director['Country of Origin'].value_counts()"
   ]
  },
  {
   "cell_type": "code",
   "execution_count": 32,
   "metadata": {},
   "outputs": [
    {
     "data": {
      "text/html": [
       "<div>\n",
       "<style scoped>\n",
       "    .dataframe tbody tr th:only-of-type {\n",
       "        vertical-align: middle;\n",
       "    }\n",
       "\n",
       "    .dataframe tbody tr th {\n",
       "        vertical-align: top;\n",
       "    }\n",
       "\n",
       "    .dataframe thead th {\n",
       "        text-align: right;\n",
       "    }\n",
       "</style>\n",
       "<table border=\"1\" class=\"dataframe\">\n",
       "  <thead>\n",
       "    <tr style=\"text-align: right;\">\n",
       "      <th></th>\n",
       "      <th>Types</th>\n",
       "      <th>International</th>\n",
       "      <th>National</th>\n",
       "    </tr>\n",
       "  </thead>\n",
       "  <tbody>\n",
       "    <tr>\n",
       "      <th>0</th>\n",
       "      <td>Showrunners</td>\n",
       "      <td>45.45%</td>\n",
       "      <td>54.55%</td>\n",
       "    </tr>\n",
       "  </tbody>\n",
       "</table>\n",
       "</div>"
      ],
      "text/plain": [
       "         Types International National\n",
       "0  Showrunners        45.45%   54.55%"
      ]
     },
     "execution_count": 32,
     "metadata": {},
     "output_type": "execute_result"
    }
   ],
   "source": [
    "df_origin = pd.DataFrame(columns = ['Types','International', 'National'])\n",
    "show_us = df_runner[df_runner['Country of Origin '] == 'United States'].shape[0]\n",
    "show_inter = df_runner.shape[0]- show_us\n",
    "df_origin = df_origin.append({'Types': 'Showrunners',\n",
    "                            'International': str(round(show_inter/float(df_runner.shape[0])*100,2)) + '%', \\\n",
    "                            'National': str(round(show_us/float(df_runner.shape[0])*100,2)) + '%'}, ignore_index=True)       \n",
    "df_origin"
   ]
  },
  {
   "cell_type": "code",
   "execution_count": 33,
   "metadata": {},
   "outputs": [
    {
     "data": {
      "text/html": [
       "<div>\n",
       "<style scoped>\n",
       "    .dataframe tbody tr th:only-of-type {\n",
       "        vertical-align: middle;\n",
       "    }\n",
       "\n",
       "    .dataframe tbody tr th {\n",
       "        vertical-align: top;\n",
       "    }\n",
       "\n",
       "    .dataframe thead th {\n",
       "        text-align: right;\n",
       "    }\n",
       "</style>\n",
       "<table border=\"1\" class=\"dataframe\">\n",
       "  <thead>\n",
       "    <tr style=\"text-align: right;\">\n",
       "      <th></th>\n",
       "      <th>Types</th>\n",
       "      <th>International</th>\n",
       "      <th>National</th>\n",
       "    </tr>\n",
       "  </thead>\n",
       "  <tbody>\n",
       "    <tr>\n",
       "      <th>0</th>\n",
       "      <td>Showrunners</td>\n",
       "      <td>45.45%</td>\n",
       "      <td>54.55%</td>\n",
       "    </tr>\n",
       "    <tr>\n",
       "      <th>1</th>\n",
       "      <td>Leaders</td>\n",
       "      <td>35.42%</td>\n",
       "      <td>64.58%</td>\n",
       "    </tr>\n",
       "  </tbody>\n",
       "</table>\n",
       "</div>"
      ],
      "text/plain": [
       "         Types International National\n",
       "0  Showrunners        45.45%   54.55%\n",
       "1      Leaders        35.42%   64.58%"
      ]
     },
     "execution_count": 33,
     "metadata": {},
     "output_type": "execute_result"
    }
   ],
   "source": [
    "leader_us = df_lead[df_lead['Country of Origin'] == 'United States'].shape[0]\n",
    "leader_inter = df_lead.shape[0]- leader_us\n",
    "df_origin = df_origin.append({'Types': 'Leaders',\n",
    "                            'International': str(round(leader_inter/float(df_lead.shape[0])*100,2)) + '%', \\\n",
    "                            'National': str(round(leader_us/float(df_lead.shape[0])*100,2)) + '%'}, ignore_index=True)       \n",
    "df_origin"
   ]
  },
  {
   "cell_type": "code",
   "execution_count": 34,
   "metadata": {},
   "outputs": [
    {
     "data": {
      "text/html": [
       "<div>\n",
       "<style scoped>\n",
       "    .dataframe tbody tr th:only-of-type {\n",
       "        vertical-align: middle;\n",
       "    }\n",
       "\n",
       "    .dataframe tbody tr th {\n",
       "        vertical-align: top;\n",
       "    }\n",
       "\n",
       "    .dataframe thead th {\n",
       "        text-align: right;\n",
       "    }\n",
       "</style>\n",
       "<table border=\"1\" class=\"dataframe\">\n",
       "  <thead>\n",
       "    <tr style=\"text-align: right;\">\n",
       "      <th></th>\n",
       "      <th>Types</th>\n",
       "      <th>International</th>\n",
       "      <th>National</th>\n",
       "    </tr>\n",
       "  </thead>\n",
       "  <tbody>\n",
       "    <tr>\n",
       "      <th>0</th>\n",
       "      <td>Showrunners</td>\n",
       "      <td>45.45%</td>\n",
       "      <td>54.55%</td>\n",
       "    </tr>\n",
       "    <tr>\n",
       "      <th>1</th>\n",
       "      <td>Leaders</td>\n",
       "      <td>35.42%</td>\n",
       "      <td>64.58%</td>\n",
       "    </tr>\n",
       "    <tr>\n",
       "      <th>2</th>\n",
       "      <td>Directors</td>\n",
       "      <td>42.86%</td>\n",
       "      <td>57.14%</td>\n",
       "    </tr>\n",
       "  </tbody>\n",
       "</table>\n",
       "</div>"
      ],
      "text/plain": [
       "         Types International National\n",
       "0  Showrunners        45.45%   54.55%\n",
       "1      Leaders        35.42%   64.58%\n",
       "2    Directors        42.86%   57.14%"
      ]
     },
     "execution_count": 34,
     "metadata": {},
     "output_type": "execute_result"
    }
   ],
   "source": [
    "director_us = df_director[df_director['Country of Origin'] == 'United States'].shape[0]\n",
    "director_inter = df_director.shape[0]- director_us\n",
    "df_origin = df_origin.append({'Types': 'Directors',\n",
    "                            'International': str(round(director_inter/float(df_director.shape[0])*100,2)) + '%', \\\n",
    "                            'National': str(round(director_us/float(df_director.shape[0])*100,2)) + '%'}, ignore_index=True)       \n",
    "df_origin"
   ]
  },
  {
   "cell_type": "markdown",
   "metadata": {},
   "source": [
    "## getting data"
   ]
  },
  {
   "cell_type": "code",
   "execution_count": 53,
   "metadata": {},
   "outputs": [],
   "source": [
    "frames = [df_shows, df_genre_repre, df_network]\n",
    "result = pd.concat(frames)\n",
    "result.to_csv('Final_numbers.csv')"
   ]
  }
 ],
 "metadata": {
  "kernelspec": {
   "display_name": "Python 2",
   "language": "python",
   "name": "python2"
  },
  "language_info": {
   "codemirror_mode": {
    "name": "ipython",
    "version": 2
   },
   "file_extension": ".py",
   "mimetype": "text/x-python",
   "name": "python",
   "nbconvert_exporter": "python",
   "pygments_lexer": "ipython2",
   "version": "2.7.16"
  }
 },
 "nbformat": 4,
 "nbformat_minor": 2
}
