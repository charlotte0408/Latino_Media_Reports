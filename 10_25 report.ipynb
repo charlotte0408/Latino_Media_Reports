{
 "cells": [
  {
   "cell_type": "code",
   "execution_count": 1,
   "metadata": {},
   "outputs": [],
   "source": [
    "import pandas as pd\n",
    "import numpy as np\n",
    "\n",
    "import warnings\n",
    "warnings.filterwarnings('ignore')\n",
    "\n",
    "import re"
   ]
  },
  {
   "cell_type": "code",
   "execution_count": 101,
   "metadata": {},
   "outputs": [],
   "source": [
    "df = pd.read_csv(\"For Python_Summer'19 Shows by Network - Network.csv\")\n",
    "df_origin = pd.read_csv(\"For Python_Country of Origin_Shows Summer '19 - Leads.csv\")"
   ]
  },
  {
   "cell_type": "code",
   "execution_count": 102,
   "metadata": {},
   "outputs": [
    {
     "data": {
      "text/html": [
       "<div>\n",
       "<style scoped>\n",
       "    .dataframe tbody tr th:only-of-type {\n",
       "        vertical-align: middle;\n",
       "    }\n",
       "\n",
       "    .dataframe tbody tr th {\n",
       "        vertical-align: top;\n",
       "    }\n",
       "\n",
       "    .dataframe thead th {\n",
       "        text-align: right;\n",
       "    }\n",
       "</style>\n",
       "<table border=\"1\" class=\"dataframe\">\n",
       "  <thead>\n",
       "    <tr style=\"text-align: right;\">\n",
       "      <th></th>\n",
       "      <th>Network</th>\n",
       "      <th>Title</th>\n",
       "      <th>Genre</th>\n",
       "      <th>Shows/Films with Latino Lead and/or co-lead \n",
       "Actors/Actresses 0=no 1=yes</th>\n",
       "      <th>Names of Latino Lead Actors/Actresses</th>\n",
       "      <th>Latino \"Showrunner/Lead Writer\"? no= 0 yes=1</th>\n",
       "      <th>Names of Latino lead writers/show runners</th>\n",
       "      <th>Latino Directors? 0= no or 1</th>\n",
       "      <th>Names of Latino Directors</th>\n",
       "      <th>Unnamed: 9</th>\n",
       "    </tr>\n",
       "  </thead>\n",
       "  <tbody>\n",
       "    <tr>\n",
       "      <th>0</th>\n",
       "      <td>A&amp;E</td>\n",
       "      <td>**Hero Ink</td>\n",
       "      <td>Alternative</td>\n",
       "      <td>0.00</td>\n",
       "      <td>NaN</td>\n",
       "      <td>0.00</td>\n",
       "      <td>NaN</td>\n",
       "      <td>0.00</td>\n",
       "      <td>NaN</td>\n",
       "      <td>NaN</td>\n",
       "    </tr>\n",
       "    <tr>\n",
       "      <th>1</th>\n",
       "      <td>A&amp;E</td>\n",
       "      <td>Ghost Hunters Season 12 (Revival)</td>\n",
       "      <td>Alternative</td>\n",
       "      <td>0.00</td>\n",
       "      <td>NaN</td>\n",
       "      <td>0.00</td>\n",
       "      <td>NaN</td>\n",
       "      <td>0.00</td>\n",
       "      <td>NaN</td>\n",
       "      <td>NaN</td>\n",
       "    </tr>\n",
       "    <tr>\n",
       "      <th>2</th>\n",
       "      <td>A&amp;E</td>\n",
       "      <td>Psychic Kids Season 4</td>\n",
       "      <td>Alternative</td>\n",
       "      <td>0.00</td>\n",
       "      <td>NaN</td>\n",
       "      <td>0.00</td>\n",
       "      <td>NaN</td>\n",
       "      <td>0.00</td>\n",
       "      <td>NaN</td>\n",
       "      <td>NaN</td>\n",
       "    </tr>\n",
       "    <tr>\n",
       "      <th>3</th>\n",
       "      <td>A&amp;E</td>\n",
       "      <td>60 Days In</td>\n",
       "      <td>Alternative</td>\n",
       "      <td>0.00</td>\n",
       "      <td>NaN</td>\n",
       "      <td>0.00</td>\n",
       "      <td>NaN</td>\n",
       "      <td>NaN</td>\n",
       "      <td>NaN</td>\n",
       "      <td>NaN</td>\n",
       "    </tr>\n",
       "    <tr>\n",
       "      <th>4</th>\n",
       "      <td>A&amp;E</td>\n",
       "      <td>Addiction Unplugged</td>\n",
       "      <td>Alternative</td>\n",
       "      <td>0.00</td>\n",
       "      <td>NaN</td>\n",
       "      <td>0.00</td>\n",
       "      <td>NaN</td>\n",
       "      <td>0.00</td>\n",
       "      <td>NaN</td>\n",
       "      <td>NaN</td>\n",
       "    </tr>\n",
       "  </tbody>\n",
       "</table>\n",
       "</div>"
      ],
      "text/plain": [
       "  Network                              Title         Genre  \\\n",
       "0     A&E                          **Hero Ink  Alternative   \n",
       "1     A&E  Ghost Hunters Season 12 (Revival)   Alternative   \n",
       "2     A&E              Psychic Kids Season 4   Alternative   \n",
       "3     A&E                          60 Days In  Alternative   \n",
       "4     A&E                 Addiction Unplugged  Alternative   \n",
       "\n",
       "  Shows/Films with Latino Lead and/or co-lead \\nActors/Actresses 0=no 1=yes  \\\n",
       "0                                               0.00                          \n",
       "1                                               0.00                          \n",
       "2                                               0.00                          \n",
       "3                                               0.00                          \n",
       "4                                               0.00                          \n",
       "\n",
       "  Names of Latino Lead Actors/Actresses  \\\n",
       "0                                   NaN   \n",
       "1                                   NaN   \n",
       "2                                   NaN   \n",
       "3                                   NaN   \n",
       "4                                   NaN   \n",
       "\n",
       "  Latino \"Showrunner/Lead Writer\"? no= 0 yes=1  \\\n",
       "0                                         0.00   \n",
       "1                                         0.00   \n",
       "2                                         0.00   \n",
       "3                                         0.00   \n",
       "4                                         0.00   \n",
       "\n",
       "  Names of Latino lead writers/show runners  Latino Directors? 0= no or 1  \\\n",
       "0                                        NaN                         0.00   \n",
       "1                                        NaN                         0.00   \n",
       "2                                        NaN                         0.00   \n",
       "3                                        NaN                          NaN   \n",
       "4                                        NaN                         0.00   \n",
       "\n",
       "  Names of Latino Directors   Unnamed: 9  \n",
       "0                        NaN         NaN  \n",
       "1                        NaN         NaN  \n",
       "2                        NaN         NaN  \n",
       "3                        NaN         NaN  \n",
       "4                        NaN         NaN  "
      ]
     },
     "execution_count": 102,
     "metadata": {},
     "output_type": "execute_result"
    }
   ],
   "source": [
    "df.head()"
   ]
  },
  {
   "cell_type": "code",
   "execution_count": 103,
   "metadata": {},
   "outputs": [],
   "source": [
    "try:\n",
    "    df = df.drop(df.columns[9], axis = 1)\n",
    "except:\n",
    "    print \"drop error\""
   ]
  },
  {
   "cell_type": "code",
   "execution_count": 104,
   "metadata": {},
   "outputs": [],
   "source": [
    "df.columns = ['network', 'title', 'genre', 'topliners', 'name_topliners', 'showrunners', 'name_showrunners', 'directors', 'name_directors']"
   ]
  },
  {
   "cell_type": "code",
   "execution_count": 6,
   "metadata": {},
   "outputs": [],
   "source": [
    "df['genre'] = df['genre'].astype(str)"
   ]
  },
  {
   "cell_type": "code",
   "execution_count": 7,
   "metadata": {},
   "outputs": [
    {
     "data": {
      "text/plain": [
       "0.00           316\n",
       "1.00            37\n",
       "0               17\n",
       "0%              13\n",
       "1                2\n",
       "1/8= 12.5%       1\n",
       "2/4= 50%         1\n",
       "2/5= 40%         1\n",
       "2/15= 13.3%      1\n",
       "1/7= 14.3 %      1\n",
       "Name: topliners, dtype: int64"
      ]
     },
     "execution_count": 7,
     "metadata": {},
     "output_type": "execute_result"
    }
   ],
   "source": [
    "df['topliners'].value_counts()"
   ]
  },
  {
   "cell_type": "code",
   "execution_count": 8,
   "metadata": {},
   "outputs": [],
   "source": [
    "df.loc[df[df['topliners'] == '0%'].index,'topliners'] = 0\n",
    "df.loc[df[df['topliners'] == '1/8= 12.5%'].index,'topliners'] = 1\n",
    "df.loc[df[df['topliners'] == '2/4= 50%'].index,'topliners'] = 2\n",
    "df.loc[df[df['topliners'] == '2/5= 40%'].index,'topliners'] = 2\n",
    "df.loc[df[df['topliners'] == '2/15= 13.3%'].index,'topliners'] = 2\n",
    "df.loc[df[df['topliners'] == '1/7= 14.3 %'].index,'topliners'] = 1"
   ]
  },
  {
   "cell_type": "code",
   "execution_count": 9,
   "metadata": {},
   "outputs": [],
   "source": [
    "df['topliners'] = pd.to_numeric(df['topliners'])"
   ]
  },
  {
   "cell_type": "code",
   "execution_count": 10,
   "metadata": {},
   "outputs": [
    {
     "data": {
      "text/plain": [
       "0.00    353\n",
       "0%       24\n",
       "0         6\n",
       "1.00      6\n",
       "Name: showrunners, dtype: int64"
      ]
     },
     "execution_count": 10,
     "metadata": {},
     "output_type": "execute_result"
    }
   ],
   "source": [
    "df['showrunners'].value_counts()"
   ]
  },
  {
   "cell_type": "code",
   "execution_count": 11,
   "metadata": {},
   "outputs": [],
   "source": [
    "df.loc[df[df['showrunners'] == '0%'].index,'showrunners'] = 0"
   ]
  },
  {
   "cell_type": "code",
   "execution_count": 12,
   "metadata": {},
   "outputs": [],
   "source": [
    "df['showrunners'] = pd.to_numeric(df['showrunners'])"
   ]
  },
  {
   "cell_type": "code",
   "execution_count": 13,
   "metadata": {},
   "outputs": [
    {
     "data": {
      "text/plain": [
       "0.00           218\n",
       "1.00            20\n",
       "0%              17\n",
       "0                4\n",
       "1/7= 14.3%       2\n",
       "2/4= 50%         1\n",
       "2/5= 40%         1\n",
       "1/7= 14.3 %      1\n",
       "Name: directors, dtype: int64"
      ]
     },
     "execution_count": 13,
     "metadata": {},
     "output_type": "execute_result"
    }
   ],
   "source": [
    "df['directors'].value_counts()"
   ]
  },
  {
   "cell_type": "code",
   "execution_count": 14,
   "metadata": {},
   "outputs": [],
   "source": [
    "df.loc[df[df['directors'] == '0%'].index,'directors'] = 0\n",
    "df.loc[df[df['directors'] == '1/7= 14.3%'].index,'directors'] = 1\n",
    "df.loc[df[df['directors'] == '2/4= 50%'].index,'directors'] = 2\n",
    "df.loc[df[df['directors'] == '2/5= 40%'].index,'directors'] = 2\n",
    "df.loc[df[df['directors'] == '1/7= 14.3 %'].index,'directors'] = 1"
   ]
  },
  {
   "cell_type": "code",
   "execution_count": 15,
   "metadata": {},
   "outputs": [],
   "source": [
    "df['directors'] = pd.to_numeric(df['directors'])"
   ]
  },
  {
   "cell_type": "code",
   "execution_count": 16,
   "metadata": {},
   "outputs": [],
   "source": [
    "df.loc[df[df['genre'] == 'Docu-series'].index,'genre'] = 'Docuseries'\n",
    "df.loc[df[df['genre'] == 'Docu-series\\n'].index,'genre'] = 'Docuseries'"
   ]
  },
  {
   "cell_type": "code",
   "execution_count": 18,
   "metadata": {},
   "outputs": [],
   "source": [
    "df['genre']= df['genre'].apply(lambda x: x.strip())"
   ]
  },
  {
   "attachments": {},
   "cell_type": "markdown",
   "metadata": {},
   "source": [
    "## Question: Across all OTT and Primetime Broadcast, Cable, and Premium channel shows"
   ]
  },
  {
   "cell_type": "code",
   "execution_count": 64,
   "metadata": {},
   "outputs": [
    {
     "data": {
      "text/html": [
       "<div>\n",
       "<style scoped>\n",
       "    .dataframe tbody tr th:only-of-type {\n",
       "        vertical-align: middle;\n",
       "    }\n",
       "\n",
       "    .dataframe tbody tr th {\n",
       "        vertical-align: top;\n",
       "    }\n",
       "\n",
       "    .dataframe thead th {\n",
       "        text-align: right;\n",
       "    }\n",
       "</style>\n",
       "<table border=\"1\" class=\"dataframe\">\n",
       "  <thead>\n",
       "    <tr style=\"text-align: right;\">\n",
       "      <th></th>\n",
       "      <th>Percent of Latino Topliners</th>\n",
       "      <th>Percent of Latino Showrunners</th>\n",
       "      <th>Percent of Latino Directors</th>\n",
       "    </tr>\n",
       "  </thead>\n",
       "  <tbody>\n",
       "    <tr>\n",
       "      <th>0</th>\n",
       "      <td>12.05%</td>\n",
       "      <td>1.54%</td>\n",
       "      <td>10.23%</td>\n",
       "    </tr>\n",
       "  </tbody>\n",
       "</table>\n",
       "</div>"
      ],
      "text/plain": [
       "  Percent of Latino Topliners Percent of Latino Showrunners  \\\n",
       "0                      12.05%                         1.54%   \n",
       "\n",
       "  Percent of Latino Directors  \n",
       "0                      10.23%  "
      ]
     },
     "execution_count": 64,
     "metadata": {},
     "output_type": "execute_result"
    }
   ],
   "source": [
    "df_shows = pd.DataFrame(columns = ['Percent of Latino Topliners', 'Percent of Latino Showrunners', 'Percent of Latino Directors'])\n",
    "df_shows = df_shows.append({'Percent of Latino Topliners': str(round(np.mean(df['topliners']*100),2)) + '%', \\\n",
    "                            'Percent of Latino Showrunners': str(round(np.mean(df['showrunners']*100),2)) + '%', \\\n",
    "                            'Percent of Latino Directors': str(round(np.mean(df['directors']*100),2)) + '%'}, ignore_index=True)       \n",
    "df_shows"
   ]
  },
  {
   "cell_type": "markdown",
   "metadata": {},
   "source": [
    "## Question: How does Latino representation measure up by genre within shows? \n"
   ]
  },
  {
   "cell_type": "code",
   "execution_count": 43,
   "metadata": {},
   "outputs": [],
   "source": [
    "def Genre_representation(g):\n",
    "    df_temp = df[df['genre'] == g]\n",
    "    return np.mean(df_temp['topliners']), np.mean(df_temp['showrunners']), np.mean(df_temp['directors']) "
   ]
  },
  {
   "cell_type": "code",
   "execution_count": 55,
   "metadata": {},
   "outputs": [
    {
     "data": {
      "text/html": [
       "<div>\n",
       "<style scoped>\n",
       "    .dataframe tbody tr th:only-of-type {\n",
       "        vertical-align: middle;\n",
       "    }\n",
       "\n",
       "    .dataframe tbody tr th {\n",
       "        vertical-align: top;\n",
       "    }\n",
       "\n",
       "    .dataframe thead th {\n",
       "        text-align: right;\n",
       "    }\n",
       "</style>\n",
       "<table border=\"1\" class=\"dataframe\">\n",
       "  <thead>\n",
       "    <tr style=\"text-align: right;\">\n",
       "      <th></th>\n",
       "      <th>Genres</th>\n",
       "      <th>Percent of Latino Topliners</th>\n",
       "      <th>Percent of Latino Showrunners</th>\n",
       "      <th>Percent of Latino Directors</th>\n",
       "    </tr>\n",
       "  </thead>\n",
       "  <tbody>\n",
       "  </tbody>\n",
       "</table>\n",
       "</div>"
      ],
      "text/plain": [
       "Empty DataFrame\n",
       "Columns: [Genres, Percent of Latino Topliners, Percent of Latino Showrunners, Percent of Latino Directors]\n",
       "Index: []"
      ]
     },
     "execution_count": 55,
     "metadata": {},
     "output_type": "execute_result"
    }
   ],
   "source": [
    "genres = ['Comedy', 'Drama', 'Docuseries', 'Alternative', 'Kids']\n",
    "df_genre_repre = pd.DataFrame(columns = ['Genres', 'Percent of Latino Topliners', 'Percent of Latino Showrunners', 'Percent of Latino Directors'])\n",
    "df_genre_repre"
   ]
  },
  {
   "cell_type": "code",
   "execution_count": 56,
   "metadata": {},
   "outputs": [
    {
     "data": {
      "text/plain": [
       "'14.29'"
      ]
     },
     "execution_count": 56,
     "metadata": {},
     "output_type": "execute_result"
    }
   ],
   "source": [
    "str(round(Genre_representation(g)[0]*100,2))"
   ]
  },
  {
   "cell_type": "code",
   "execution_count": 57,
   "metadata": {},
   "outputs": [
    {
     "name": "stdout",
     "output_type": "stream",
     "text": [
      "(0.2571428571428571, 0.02857142857142857, 0.08571428571428572)\n",
      "(0.1875, 0.031578947368421054, 0.18181818181818182)\n",
      "(0.023809523809523808, 0.023809523809523808, 0.0)\n",
      "(0.046242774566473986, 0.0, 0.0)\n",
      "(0.14285714285714285, 0.047619047619047616, 0.09523809523809523)\n"
     ]
    }
   ],
   "source": [
    "for g in genres:\n",
    "    print Genre_representation(g)\n",
    "    df_genre_repre = df_genre_repre.append({'Genres': g, \\\n",
    "                            'Percent of Latino Topliners': str(round(Genre_representation(g)[0]*100,2)) + '%', \\\n",
    "                            'Percent of Latino Showrunners': str(round(Genre_representation(g)[1]*100,2)) + '%', \\\n",
    "                            'Percent of Latino Directors': str(round(Genre_representation(g)[2]*100,2)) + '%'\n",
    "                                           }, ignore_index=True)"
   ]
  },
  {
   "cell_type": "code",
   "execution_count": 58,
   "metadata": {},
   "outputs": [
    {
     "data": {
      "text/html": [
       "<div>\n",
       "<style scoped>\n",
       "    .dataframe tbody tr th:only-of-type {\n",
       "        vertical-align: middle;\n",
       "    }\n",
       "\n",
       "    .dataframe tbody tr th {\n",
       "        vertical-align: top;\n",
       "    }\n",
       "\n",
       "    .dataframe thead th {\n",
       "        text-align: right;\n",
       "    }\n",
       "</style>\n",
       "<table border=\"1\" class=\"dataframe\">\n",
       "  <thead>\n",
       "    <tr style=\"text-align: right;\">\n",
       "      <th></th>\n",
       "      <th>Genres</th>\n",
       "      <th>Percent of Latino Topliners</th>\n",
       "      <th>Percent of Latino Showrunners</th>\n",
       "      <th>Percent of Latino Directors</th>\n",
       "    </tr>\n",
       "  </thead>\n",
       "  <tbody>\n",
       "    <tr>\n",
       "      <th>0</th>\n",
       "      <td>Comedy</td>\n",
       "      <td>25.71%</td>\n",
       "      <td>2.86%</td>\n",
       "      <td>8.57%</td>\n",
       "    </tr>\n",
       "    <tr>\n",
       "      <th>1</th>\n",
       "      <td>Drama</td>\n",
       "      <td>18.75%</td>\n",
       "      <td>3.16%</td>\n",
       "      <td>18.18%</td>\n",
       "    </tr>\n",
       "    <tr>\n",
       "      <th>2</th>\n",
       "      <td>Docuseries</td>\n",
       "      <td>2.38%</td>\n",
       "      <td>2.38%</td>\n",
       "      <td>0.0%</td>\n",
       "    </tr>\n",
       "    <tr>\n",
       "      <th>3</th>\n",
       "      <td>Alternative</td>\n",
       "      <td>4.62%</td>\n",
       "      <td>0.0%</td>\n",
       "      <td>0.0%</td>\n",
       "    </tr>\n",
       "    <tr>\n",
       "      <th>4</th>\n",
       "      <td>Kids</td>\n",
       "      <td>14.29%</td>\n",
       "      <td>4.76%</td>\n",
       "      <td>9.52%</td>\n",
       "    </tr>\n",
       "  </tbody>\n",
       "</table>\n",
       "</div>"
      ],
      "text/plain": [
       "        Genres Percent of Latino Topliners Percent of Latino Showrunners  \\\n",
       "0       Comedy                      25.71%                         2.86%   \n",
       "1        Drama                      18.75%                         3.16%   \n",
       "2   Docuseries                       2.38%                         2.38%   \n",
       "3  Alternative                       4.62%                          0.0%   \n",
       "4         Kids                      14.29%                         4.76%   \n",
       "\n",
       "  Percent of Latino Directors  \n",
       "0                       8.57%  \n",
       "1                      18.18%  \n",
       "2                        0.0%  \n",
       "3                        0.0%  \n",
       "4                       9.52%  "
      ]
     },
     "execution_count": 58,
     "metadata": {},
     "output_type": "execute_result"
    }
   ],
   "source": [
    "df_genre_repre"
   ]
  },
  {
   "attachments": {},
   "cell_type": "markdown",
   "metadata": {},
   "source": [
    "## Question: How does Latino representation measure up by Network Type? "
   ]
  },
  {
   "cell_type": "code",
   "execution_count": 74,
   "metadata": {},
   "outputs": [
    {
     "data": {
      "text/plain": [
       "nan                        69\n",
       "netflix                    58\n",
       "investigation discovery    25\n",
       "hgtv                       18\n",
       "travel channel             17\n",
       "food network               17\n",
       "cw                         15\n",
       "abc                        15\n",
       "hbo                        11\n",
       "tlc                        11\n",
       "vh1                        10\n",
       "amazon                     10\n",
       "discovery channel          10\n",
       "history                     9\n",
       "cbs                         8\n",
       "fox                         8\n",
       "discovery                   8\n",
       "usa                         8\n",
       "hulu                        8\n",
       "nbc                         7\n",
       "amc                         7\n",
       "comedy central              7\n",
       "paramount                   7\n",
       "own                         7\n",
       "lifetime                    7\n",
       "showtime                    7\n",
       "bravo                       7\n",
       "a&e                         6\n",
       "mtv                         6\n",
       "disney                      6\n",
       "fx                          5\n",
       "national geographic         5\n",
       "e!                          5\n",
       "starz                       5\n",
       "nickelodeon                 4\n",
       "freeform                    4\n",
       "hallmark                    3\n",
       "nat geo                     1\n",
       "Name: network, dtype: int64"
      ]
     },
     "execution_count": 74,
     "metadata": {},
     "output_type": "execute_result"
    }
   ],
   "source": [
    "df['network'] = df['network'].astype(str)\n",
    "df['network'] = df['network'].apply(lambda x: x.lower())\n",
    "df['network'] = df['network'].apply(lambda x: x.strip())"
   ]
  },
  {
   "cell_type": "code",
   "execution_count": 90,
   "metadata": {},
   "outputs": [],
   "source": [
    "broad = ['nbc', 'cbs', 'abc', 'cw']\n",
    "ott = ['amazon', 'hulu', 'netflix']\n",
    "premium = ['hbo', 'cinemax', 'showtime', 'starz']"
   ]
  },
  {
   "cell_type": "code",
   "execution_count": 91,
   "metadata": {},
   "outputs": [],
   "source": [
    "df_broad = df[df['network'].isin(broad)]\n",
    "df_ott = df[df['network'].isin(ott)]\n",
    "df_premium = df[df['network'].isin(premium)]\n",
    "df_cable = df[(~df['network'].isin(ott))&(~df['network'].isin(broad))&(~df['network'].isin(premium))]"
   ]
  },
  {
   "cell_type": "code",
   "execution_count": 93,
   "metadata": {},
   "outputs": [],
   "source": [
    "df_network = pd.DataFrame(columns = ['General Network', 'Percent of Latino Topliners', 'Percent of Latino Showrunners', 'Percent of Latino Directors'])\n",
    "df_network = df_network.append({'General Network': 'BraodCast', \\\n",
    "                     'Percent of Latino Topliners': str(round(np.mean(df_broad['topliners']*100),2)) + '%', \\\n",
    "                     'Percent of Latino Showrunners': str(round(np.mean(df_broad['showrunners']*100),2)) + '%', \\\n",
    "                     'Percent of Latino Directors': str(round(np.mean(df_broad['directors']*100),2)) + '%',\n",
    "                                           }, ignore_index=True)\n",
    "df_network = df_network.append({'General Network': 'Premium', \\\n",
    "                     'Percent of Latino Topliners': str(round(np.mean(df_premium['topliners']*100),2)) + '%', \\\n",
    "                     'Percent of Latino Showrunners': str(round(np.mean(df_premium['showrunners']*100),2)) + '%', \\\n",
    "                     'Percent of Latino Directors': str(round(np.mean(df_premium['directors']*100),2)) + '%',\n",
    "                                           }, ignore_index=True)\n",
    "df_network = df_network.append({'General Network': 'OTT', \\\n",
    "                     'Percent of Latino Topliners': str(round(np.mean(df_ott['topliners']*100),2)) + '%', \\\n",
    "                     'Percent of Latino Showrunners': str(round(np.mean(df_ott['showrunners']*100),2)) + '%', \\\n",
    "                     'Percent of Latino Directors': str(round(np.mean(df_ott['directors']*100),2)) + '%',\n",
    "                                           }, ignore_index=True)\n",
    "df_network = df_network.append({'General Network': 'Cable', \\\n",
    "                     'Percent of Latino Topliners': str(round(np.mean(df_cable['topliners']*100),2)) + '%', \\\n",
    "                     'Percent of Latino Showrunners': str(round(np.mean(df_cable['showrunners']*100),2)) + '%', \\\n",
    "                     'Percent of Latino Directors': str(round(np.mean(df_cable['directors']*100),2)) + '%',\n",
    "                                           }, ignore_index=True)\n"
   ]
  },
  {
   "cell_type": "code",
   "execution_count": 94,
   "metadata": {},
   "outputs": [
    {
     "data": {
      "text/html": [
       "<div>\n",
       "<style scoped>\n",
       "    .dataframe tbody tr th:only-of-type {\n",
       "        vertical-align: middle;\n",
       "    }\n",
       "\n",
       "    .dataframe tbody tr th {\n",
       "        vertical-align: top;\n",
       "    }\n",
       "\n",
       "    .dataframe thead th {\n",
       "        text-align: right;\n",
       "    }\n",
       "</style>\n",
       "<table border=\"1\" class=\"dataframe\">\n",
       "  <thead>\n",
       "    <tr style=\"text-align: right;\">\n",
       "      <th></th>\n",
       "      <th>General Network</th>\n",
       "      <th>Percent of Latino Topliners</th>\n",
       "      <th>Percent of Latino Showrunners</th>\n",
       "      <th>Percent of Latino Directors</th>\n",
       "    </tr>\n",
       "  </thead>\n",
       "  <tbody>\n",
       "    <tr>\n",
       "      <th>0</th>\n",
       "      <td>BraodCast</td>\n",
       "      <td>11.11%</td>\n",
       "      <td>0.0%</td>\n",
       "      <td>4.44%</td>\n",
       "    </tr>\n",
       "    <tr>\n",
       "      <th>1</th>\n",
       "      <td>Premium</td>\n",
       "      <td>17.39%</td>\n",
       "      <td>8.7%</td>\n",
       "      <td>17.39%</td>\n",
       "    </tr>\n",
       "    <tr>\n",
       "      <th>2</th>\n",
       "      <td>OTT</td>\n",
       "      <td>15.79%</td>\n",
       "      <td>1.32%</td>\n",
       "      <td>9.46%</td>\n",
       "    </tr>\n",
       "    <tr>\n",
       "      <th>3</th>\n",
       "      <td>Cable</td>\n",
       "      <td>10.57%</td>\n",
       "      <td>1.22%</td>\n",
       "      <td>11.48%</td>\n",
       "    </tr>\n",
       "  </tbody>\n",
       "</table>\n",
       "</div>"
      ],
      "text/plain": [
       "  General Network Percent of Latino Topliners Percent of Latino Showrunners  \\\n",
       "0       BraodCast                      11.11%                          0.0%   \n",
       "1         Premium                      17.39%                          8.7%   \n",
       "2             OTT                      15.79%                         1.32%   \n",
       "3           Cable                      10.57%                         1.22%   \n",
       "\n",
       "  Percent of Latino Directors  \n",
       "0                       4.44%  \n",
       "1                      17.39%  \n",
       "2                       9.46%  \n",
       "3                      11.48%  "
      ]
     },
     "execution_count": 94,
     "metadata": {},
     "output_type": "execute_result"
    }
   ],
   "source": [
    "df_network"
   ]
  },
  {
   "cell_type": "code",
   "execution_count": 107,
   "metadata": {},
   "outputs": [
    {
     "ename": "AttributeError",
     "evalue": "'str' object has no attribute 'isin'",
     "output_type": "error",
     "traceback": [
      "\u001b[0;31m---------------------------------------------------------------------------\u001b[0m",
      "\u001b[0;31mAttributeError\u001b[0m                            Traceback (most recent call last)",
      "\u001b[0;32m<ipython-input-107-48a2a2c0f9ce>\u001b[0m in \u001b[0;36m<module>\u001b[0;34m()\u001b[0m\n\u001b[0;32m----> 1\u001b[0;31m \u001b[0;34m'Augusto Aguilera'\u001b[0m\u001b[0;34m.\u001b[0m\u001b[0misin\u001b[0m\u001b[0;34m(\u001b[0m\u001b[0mdf\u001b[0m\u001b[0;34m[\u001b[0m\u001b[0;34m'name_topliners'\u001b[0m\u001b[0;34m]\u001b[0m\u001b[0;34m)\u001b[0m\u001b[0;34m\u001b[0m\u001b[0m\n\u001b[0m",
      "\u001b[0;31mAttributeError\u001b[0m: 'str' object has no attribute 'isin'"
     ]
    }
   ],
   "source": [
    "'Augusto Aguilera'.isin(df['name_topliners'])"
   ]
  },
  {
   "cell_type": "markdown",
   "metadata": {},
   "source": [
    "## Question: US born or International born"
   ]
  },
  {
   "cell_type": "markdown",
   "metadata": {},
   "source": [
    "### shows"
   ]
  },
  {
   "cell_type": "code",
   "execution_count": 97,
   "metadata": {},
   "outputs": [
    {
     "data": {
      "text/html": [
       "<div>\n",
       "<style scoped>\n",
       "    .dataframe tbody tr th:only-of-type {\n",
       "        vertical-align: middle;\n",
       "    }\n",
       "\n",
       "    .dataframe tbody tr th {\n",
       "        vertical-align: top;\n",
       "    }\n",
       "\n",
       "    .dataframe thead th {\n",
       "        text-align: right;\n",
       "    }\n",
       "</style>\n",
       "<table border=\"1\" class=\"dataframe\">\n",
       "  <thead>\n",
       "    <tr style=\"text-align: right;\">\n",
       "      <th></th>\n",
       "      <th>Name</th>\n",
       "      <th>Production</th>\n",
       "      <th>Country of Origin</th>\n",
       "    </tr>\n",
       "  </thead>\n",
       "  <tbody>\n",
       "    <tr>\n",
       "      <th>0</th>\n",
       "      <td>Augusto Aguilera</td>\n",
       "      <td>Too Old to Die Young</td>\n",
       "      <td>Puerto Rico</td>\n",
       "    </tr>\n",
       "    <tr>\n",
       "      <th>1</th>\n",
       "      <td>Kevin Alejandro</td>\n",
       "      <td>Lucifer</td>\n",
       "      <td>United States</td>\n",
       "    </tr>\n",
       "    <tr>\n",
       "      <th>2</th>\n",
       "      <td>Fred Armisen</td>\n",
       "      <td>Los Espookys</td>\n",
       "      <td>United States</td>\n",
       "    </tr>\n",
       "    <tr>\n",
       "      <th>3</th>\n",
       "      <td>Melissa Barrera</td>\n",
       "      <td>Vida</td>\n",
       "      <td>Mexico</td>\n",
       "    </tr>\n",
       "    <tr>\n",
       "      <th>4</th>\n",
       "      <td>Shakira Barrera</td>\n",
       "      <td>It's Bruno!</td>\n",
       "      <td>United States</td>\n",
       "    </tr>\n",
       "  </tbody>\n",
       "</table>\n",
       "</div>"
      ],
      "text/plain": [
       "               Name            Production Country of Origin\n",
       "0  Augusto Aguilera  Too Old to Die Young       Puerto Rico\n",
       "1   Kevin Alejandro               Lucifer     United States\n",
       "2      Fred Armisen          Los Espookys     United States\n",
       "3   Melissa Barrera                  Vida            Mexico\n",
       "4   Shakira Barrera           It's Bruno!     United States"
      ]
     },
     "execution_count": 97,
     "metadata": {},
     "output_type": "execute_result"
    }
   ],
   "source": [
    "df_origin.head()"
   ]
  },
  {
   "cell_type": "code",
   "execution_count": null,
   "metadata": {},
   "outputs": [],
   "source": []
  }
 ],
 "metadata": {
  "kernelspec": {
   "display_name": "Python 2",
   "language": "python",
   "name": "python2"
  },
  "language_info": {
   "codemirror_mode": {
    "name": "ipython",
    "version": 2
   },
   "file_extension": ".py",
   "mimetype": "text/x-python",
   "name": "python",
   "nbconvert_exporter": "python",
   "pygments_lexer": "ipython2",
   "version": "2.7.16"
  }
 },
 "nbformat": 4,
 "nbformat_minor": 2
}
