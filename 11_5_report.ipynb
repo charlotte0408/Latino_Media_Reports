{
 "cells": [
  {
   "cell_type": "code",
   "execution_count": 1,
   "metadata": {},
   "outputs": [],
   "source": [
    "import pandas as pd\n",
    "import numpy as np\n",
    "\n",
    "import warnings\n",
    "warnings.filterwarnings('ignore')\n",
    "\n",
    "import re"
   ]
  },
  {
   "cell_type": "code",
   "execution_count": 2,
   "metadata": {},
   "outputs": [],
   "source": [
    "df = pd.read_csv(\"JMResults_Network Type_Summer'19 Shows by Network - All Shows.csv\")"
   ]
  },
  {
   "cell_type": "code",
   "execution_count": 3,
   "metadata": {},
   "outputs": [
    {
     "data": {
      "text/html": [
       "<div>\n",
       "<style scoped>\n",
       "    .dataframe tbody tr th:only-of-type {\n",
       "        vertical-align: middle;\n",
       "    }\n",
       "\n",
       "    .dataframe tbody tr th {\n",
       "        vertical-align: top;\n",
       "    }\n",
       "\n",
       "    .dataframe thead th {\n",
       "        text-align: right;\n",
       "    }\n",
       "</style>\n",
       "<table border=\"1\" class=\"dataframe\">\n",
       "  <thead>\n",
       "    <tr style=\"text-align: right;\">\n",
       "      <th></th>\n",
       "      <th>Network</th>\n",
       "      <th>Title</th>\n",
       "      <th>Genre</th>\n",
       "      <th>Shows/Films with Latino Lead and/or co-lead \n",
       "Actors/Actresses 0=no 1=yes</th>\n",
       "      <th>Names of Latino Lead Actors/Actresses</th>\n",
       "      <th>Latino \"Showrunner/Lead Writer\"? no= 0 yes=1</th>\n",
       "      <th>Names of Latino lead writers/show runners</th>\n",
       "      <th>Latino Directors? 0= no or 1</th>\n",
       "      <th>Names of Latino Directors</th>\n",
       "      <th>Unnamed: 9</th>\n",
       "      <th>Unnamed: 10</th>\n",
       "      <th>Unnamed: 11</th>\n",
       "      <th>Unnamed: 12</th>\n",
       "      <th>Unnamed: 13</th>\n",
       "      <th>Unnamed: 14</th>\n",
       "    </tr>\n",
       "  </thead>\n",
       "  <tbody>\n",
       "    <tr>\n",
       "      <th>0</th>\n",
       "      <td>Netflix</td>\n",
       "      <td>13 Reasons Why</td>\n",
       "      <td>Drama</td>\n",
       "      <td>1.0</td>\n",
       "      <td>Christian Navarro</td>\n",
       "      <td>0.0</td>\n",
       "      <td>NaN</td>\n",
       "      <td>0.0</td>\n",
       "      <td>NaN</td>\n",
       "      <td>NaN</td>\n",
       "      <td>NaN</td>\n",
       "      <td>NaN</td>\n",
       "      <td>NaN</td>\n",
       "      <td>NaN</td>\n",
       "      <td>NaN</td>\n",
       "    </tr>\n",
       "    <tr>\n",
       "      <th>1</th>\n",
       "      <td>A&amp;E</td>\n",
       "      <td>60 Days In</td>\n",
       "      <td>Alternative</td>\n",
       "      <td>0.0</td>\n",
       "      <td>NaN</td>\n",
       "      <td>0.0</td>\n",
       "      <td>NaN</td>\n",
       "      <td>NaN</td>\n",
       "      <td>NaN</td>\n",
       "      <td>NaN</td>\n",
       "      <td>NaN</td>\n",
       "      <td>NaN</td>\n",
       "      <td>NaN</td>\n",
       "      <td>NaN</td>\n",
       "      <td>NaN</td>\n",
       "    </tr>\n",
       "    <tr>\n",
       "      <th>2</th>\n",
       "      <td>TLC</td>\n",
       "      <td>90 Day Fiance: Before the 90 Days</td>\n",
       "      <td>Alternative</td>\n",
       "      <td>0.0</td>\n",
       "      <td>NaN</td>\n",
       "      <td>0.0</td>\n",
       "      <td>NaN</td>\n",
       "      <td>NaN</td>\n",
       "      <td>NaN</td>\n",
       "      <td>NaN</td>\n",
       "      <td>NaN</td>\n",
       "      <td>NaN</td>\n",
       "      <td>NaN</td>\n",
       "      <td>NaN</td>\n",
       "      <td>NaN</td>\n",
       "    </tr>\n",
       "    <tr>\n",
       "      <th>3</th>\n",
       "      <td>TLC</td>\n",
       "      <td>90 Day Fiancé: The Other Way</td>\n",
       "      <td>Alternative</td>\n",
       "      <td>0.0</td>\n",
       "      <td>NaN</td>\n",
       "      <td>0.0</td>\n",
       "      <td>NaN</td>\n",
       "      <td>NaN</td>\n",
       "      <td>NaN</td>\n",
       "      <td>NaN</td>\n",
       "      <td>NaN</td>\n",
       "      <td>NaN</td>\n",
       "      <td>NaN</td>\n",
       "      <td>NaN</td>\n",
       "      <td>NaN</td>\n",
       "    </tr>\n",
       "    <tr>\n",
       "      <th>4</th>\n",
       "      <td>HBO</td>\n",
       "      <td>A Black Lady Sketch Show</td>\n",
       "      <td>Alternative</td>\n",
       "      <td>0.0</td>\n",
       "      <td>NaN</td>\n",
       "      <td>0.0</td>\n",
       "      <td>NaN</td>\n",
       "      <td>0.0</td>\n",
       "      <td>NaN</td>\n",
       "      <td>NaN</td>\n",
       "      <td>NaN</td>\n",
       "      <td>NaN</td>\n",
       "      <td>NaN</td>\n",
       "      <td>NaN</td>\n",
       "      <td>NaN</td>\n",
       "    </tr>\n",
       "  </tbody>\n",
       "</table>\n",
       "</div>"
      ],
      "text/plain": [
       "   Network                             Title         Genre  \\\n",
       "0  Netflix                    13 Reasons Why         Drama   \n",
       "1      A&E                         60 Days In  Alternative   \n",
       "2      TLC  90 Day Fiance: Before the 90 Days  Alternative   \n",
       "3      TLC       90 Day Fiancé: The Other Way  Alternative   \n",
       "4      HBO           A Black Lady Sketch Show  Alternative   \n",
       "\n",
       "   Shows/Films with Latino Lead and/or co-lead \\nActors/Actresses 0=no 1=yes  \\\n",
       "0                                                1.0                           \n",
       "1                                                0.0                           \n",
       "2                                                0.0                           \n",
       "3                                                0.0                           \n",
       "4                                                0.0                           \n",
       "\n",
       "  Names of Latino Lead Actors/Actresses  \\\n",
       "0                     Christian Navarro   \n",
       "1                                   NaN   \n",
       "2                                   NaN   \n",
       "3                                   NaN   \n",
       "4                                   NaN   \n",
       "\n",
       "   Latino \"Showrunner/Lead Writer\"? no= 0 yes=1  \\\n",
       "0                                           0.0   \n",
       "1                                           0.0   \n",
       "2                                           0.0   \n",
       "3                                           0.0   \n",
       "4                                           0.0   \n",
       "\n",
       "   Names of Latino lead writers/show runners   Latino Directors? 0= no or 1  \\\n",
       "0                                         NaN                           0.0   \n",
       "1                                         NaN                           NaN   \n",
       "2                                         NaN                           NaN   \n",
       "3                                         NaN                           NaN   \n",
       "4                                         NaN                           0.0   \n",
       "\n",
       "  Names of Latino Directors   Unnamed: 9  Unnamed: 10  Unnamed: 11  \\\n",
       "0                        NaN         NaN          NaN          NaN   \n",
       "1                        NaN         NaN          NaN          NaN   \n",
       "2                        NaN         NaN          NaN          NaN   \n",
       "3                        NaN         NaN          NaN          NaN   \n",
       "4                        NaN         NaN          NaN          NaN   \n",
       "\n",
       "   Unnamed: 12  Unnamed: 13 Unnamed: 14  \n",
       "0          NaN          NaN         NaN  \n",
       "1          NaN          NaN         NaN  \n",
       "2          NaN          NaN         NaN  \n",
       "3          NaN          NaN         NaN  \n",
       "4          NaN          NaN         NaN  "
      ]
     },
     "execution_count": 3,
     "metadata": {},
     "output_type": "execute_result"
    }
   ],
   "source": [
    "df.head()"
   ]
  },
  {
   "cell_type": "code",
   "execution_count": 4,
   "metadata": {},
   "outputs": [
    {
     "data": {
      "text/plain": [
       "Alternative       151\n",
       "Drama              95\n",
       "Docu-series        37\n",
       "Comedy             34\n",
       "Alternative        16\n",
       "Docu-series\\n       2\n",
       "Reality Series      1\n",
       "reality             1\n",
       "Comedy              1\n",
       "drama               1\n",
       "Talk-Show           1\n",
       "Kids                1\n",
       "Name: Genre, dtype: int64"
      ]
     },
     "execution_count": 4,
     "metadata": {},
     "output_type": "execute_result"
    }
   ],
   "source": [
    "df['Genre'].value_counts()"
   ]
  },
  {
   "cell_type": "code",
   "execution_count": 5,
   "metadata": {},
   "outputs": [],
   "source": [
    "df = df[df['Genre'] != 'Kids']"
   ]
  },
  {
   "cell_type": "code",
   "execution_count": 6,
   "metadata": {},
   "outputs": [],
   "source": [
    "try:\n",
    "    for _ in range(6):\n",
    "        df = df.drop(df.columns[9], axis = 1)\n",
    "except:\n",
    "    print \"drop error\""
   ]
  },
  {
   "cell_type": "code",
   "execution_count": 7,
   "metadata": {},
   "outputs": [],
   "source": [
    "df.columns = ['network', 'title', 'genre', 'topliners', 'name_topliners', 'showrunners', 'name_showrunners', 'directors', 'name_directors']"
   ]
  },
  {
   "cell_type": "code",
   "execution_count": 8,
   "metadata": {},
   "outputs": [],
   "source": [
    "df = df[pd.notnull(df['title'])]"
   ]
  },
  {
   "cell_type": "code",
   "execution_count": 9,
   "metadata": {},
   "outputs": [
    {
     "data": {
      "text/plain": [
       "(340, 9)"
      ]
     },
     "execution_count": 9,
     "metadata": {},
     "output_type": "execute_result"
    }
   ],
   "source": [
    "df.shape"
   ]
  },
  {
   "cell_type": "code",
   "execution_count": 10,
   "metadata": {},
   "outputs": [],
   "source": [
    "df['genre'] = df['genre'].astype(str)"
   ]
  },
  {
   "cell_type": "code",
   "execution_count": 11,
   "metadata": {},
   "outputs": [
    {
     "data": {
      "text/plain": [
       "0.0    304\n",
       "1.0     35\n",
       "Name: topliners, dtype: int64"
      ]
     },
     "execution_count": 11,
     "metadata": {},
     "output_type": "execute_result"
    }
   ],
   "source": [
    "df['topliners'].value_counts()"
   ]
  },
  {
   "cell_type": "code",
   "execution_count": 12,
   "metadata": {},
   "outputs": [
    {
     "data": {
      "text/plain": [
       "0.0    328\n",
       "1.0      5\n",
       "Name: showrunners, dtype: int64"
      ]
     },
     "execution_count": 12,
     "metadata": {},
     "output_type": "execute_result"
    }
   ],
   "source": [
    "df['showrunners'].value_counts()"
   ]
  },
  {
   "cell_type": "code",
   "execution_count": 13,
   "metadata": {},
   "outputs": [
    {
     "data": {
      "text/plain": [
       "0.0    195\n",
       "1.0     19\n",
       "Name: directors, dtype: int64"
      ]
     },
     "execution_count": 13,
     "metadata": {},
     "output_type": "execute_result"
    }
   ],
   "source": [
    "df['directors'].value_counts()"
   ]
  },
  {
   "cell_type": "code",
   "execution_count": 14,
   "metadata": {},
   "outputs": [],
   "source": [
    "df.loc[df[df['genre'] == 'Docu-series'].index,'genre'] = 'Docuseries'\n",
    "df.loc[df[df['genre'] == 'Docu-series\\n'].index,'genre'] = 'Docuseries'"
   ]
  },
  {
   "cell_type": "code",
   "execution_count": 15,
   "metadata": {},
   "outputs": [],
   "source": [
    "df['genre']= df['genre'].apply(lambda x: x.strip())\n",
    "df['genre'] = df['genre'].apply(lambda x: x.lower())"
   ]
  },
  {
   "cell_type": "code",
   "execution_count": 16,
   "metadata": {},
   "outputs": [
    {
     "data": {
      "text/html": [
       "<div>\n",
       "<style scoped>\n",
       "    .dataframe tbody tr th:only-of-type {\n",
       "        vertical-align: middle;\n",
       "    }\n",
       "\n",
       "    .dataframe tbody tr th {\n",
       "        vertical-align: top;\n",
       "    }\n",
       "\n",
       "    .dataframe thead th {\n",
       "        text-align: right;\n",
       "    }\n",
       "</style>\n",
       "<table border=\"1\" class=\"dataframe\">\n",
       "  <thead>\n",
       "    <tr style=\"text-align: right;\">\n",
       "      <th></th>\n",
       "      <th>Types</th>\n",
       "      <th>Percent of Latino Topliners</th>\n",
       "      <th>Percent of Latino Showrunners</th>\n",
       "      <th>Percent of Latino Directors</th>\n",
       "    </tr>\n",
       "  </thead>\n",
       "  <tbody>\n",
       "    <tr>\n",
       "      <th>0</th>\n",
       "      <td>Overall</td>\n",
       "      <td>10.3244837758%</td>\n",
       "      <td>1.5015015015%</td>\n",
       "      <td>8.8785046729%</td>\n",
       "    </tr>\n",
       "  </tbody>\n",
       "</table>\n",
       "</div>"
      ],
      "text/plain": [
       "     Types Percent of Latino Topliners Percent of Latino Showrunners  \\\n",
       "0  Overall              10.3244837758%                 1.5015015015%   \n",
       "\n",
       "  Percent of Latino Directors  \n",
       "0               8.8785046729%  "
      ]
     },
     "execution_count": 16,
     "metadata": {},
     "output_type": "execute_result"
    }
   ],
   "source": [
    "df_shows = pd.DataFrame(columns = ['Types','Percent of Latino Topliners', 'Percent of Latino Showrunners', 'Percent of Latino Directors'])\n",
    "df_shows = df_shows.append({'Types': 'Overall',\n",
    "                            'Percent of Latino Topliners': str(np.mean(df['topliners']*100)) + '%', \\\n",
    "                            'Percent of Latino Showrunners': str(np.mean(df['showrunners']*100)) + '%', \\\n",
    "                            'Percent of Latino Directors': str(np.mean(df['directors']*100)) + '%'}, ignore_index=True)       \n",
    "df_shows"
   ]
  },
  {
   "cell_type": "code",
   "execution_count": 17,
   "metadata": {},
   "outputs": [
    {
     "data": {
      "text/plain": [
       "alternative       167\n",
       "drama              96\n",
       "docuseries         39\n",
       "comedy             35\n",
       "reality series      1\n",
       "reality             1\n",
       "talk-show           1\n",
       "Name: genre, dtype: int64"
      ]
     },
     "execution_count": 17,
     "metadata": {},
     "output_type": "execute_result"
    }
   ],
   "source": [
    "df['genre'].value_counts()"
   ]
  },
  {
   "cell_type": "code",
   "execution_count": 18,
   "metadata": {},
   "outputs": [
    {
     "data": {
      "text/plain": [
       "(340, 9)"
      ]
     },
     "execution_count": 18,
     "metadata": {},
     "output_type": "execute_result"
    }
   ],
   "source": [
    "df.shape"
   ]
  },
  {
   "cell_type": "markdown",
   "metadata": {},
   "source": [
    "## Question: How does Latino representation measure up by genre within shows? \n"
   ]
  },
  {
   "cell_type": "code",
   "execution_count": 19,
   "metadata": {},
   "outputs": [],
   "source": [
    "def Genre_representation(g):\n",
    "    df_temp = df[df['genre'] == g]\n",
    "    return np.mean(df_temp['topliners']), np.mean(df_temp['showrunners']), np.mean(df_temp['directors']) "
   ]
  },
  {
   "cell_type": "code",
   "execution_count": 20,
   "metadata": {},
   "outputs": [],
   "source": [
    "genres = ['comedy', 'drama', 'docuseries', 'alternative']\n",
    "df_genre_repre = pd.DataFrame(columns = ['Types', 'Percent of Latino Topliners', 'Percent of Latino Showrunners', 'Percent of Latino Directors'])"
   ]
  },
  {
   "cell_type": "code",
   "execution_count": 21,
   "metadata": {},
   "outputs": [
    {
     "name": "stdout",
     "output_type": "stream",
     "text": [
      "(0.2571428571428571, 0.02857142857142857, 0.11428571428571428)\n",
      "(0.1875, 0.031578947368421054, 0.18181818181818182)\n",
      "(0.02564102564102564, 0.02564102564102564, 0.047619047619047616)\n",
      "(0.04216867469879518, 0.0, 0.0)\n"
     ]
    }
   ],
   "source": [
    "for g in genres:\n",
    "    print Genre_representation(g)\n",
    "    df_genre_repre = df_genre_repre.append({'Types': g, \\\n",
    "                            'Percent of Latino Topliners': str(Genre_representation(g)[0]*100) + '%', \\\n",
    "                            'Percent of Latino Showrunners': str(Genre_representation(g)[1]*100) + '%', \\\n",
    "                            'Percent of Latino Directors': str(Genre_representation(g)[2]*100) + '%'\n",
    "                                           }, ignore_index=True)"
   ]
  },
  {
   "cell_type": "code",
   "execution_count": 22,
   "metadata": {},
   "outputs": [
    {
     "data": {
      "text/plain": [
       "0.0    63\n",
       "1.0    14\n",
       "Name: directors, dtype: int64"
      ]
     },
     "execution_count": 22,
     "metadata": {},
     "output_type": "execute_result"
    }
   ],
   "source": [
    "g = 'drama'\n",
    "df_temp = df[df['genre'] == g]\n",
    "df_temp['directors'].value_counts()"
   ]
  },
  {
   "cell_type": "code",
   "execution_count": 23,
   "metadata": {},
   "outputs": [
    {
     "data": {
      "text/html": [
       "<div>\n",
       "<style scoped>\n",
       "    .dataframe tbody tr th:only-of-type {\n",
       "        vertical-align: middle;\n",
       "    }\n",
       "\n",
       "    .dataframe tbody tr th {\n",
       "        vertical-align: top;\n",
       "    }\n",
       "\n",
       "    .dataframe thead th {\n",
       "        text-align: right;\n",
       "    }\n",
       "</style>\n",
       "<table border=\"1\" class=\"dataframe\">\n",
       "  <thead>\n",
       "    <tr style=\"text-align: right;\">\n",
       "      <th></th>\n",
       "      <th>Types</th>\n",
       "      <th>Percent of Latino Topliners</th>\n",
       "      <th>Percent of Latino Showrunners</th>\n",
       "      <th>Percent of Latino Directors</th>\n",
       "    </tr>\n",
       "  </thead>\n",
       "  <tbody>\n",
       "    <tr>\n",
       "      <th>0</th>\n",
       "      <td>comedy</td>\n",
       "      <td>25.7142857143%</td>\n",
       "      <td>2.85714285714%</td>\n",
       "      <td>11.4285714286%</td>\n",
       "    </tr>\n",
       "    <tr>\n",
       "      <th>1</th>\n",
       "      <td>drama</td>\n",
       "      <td>18.75%</td>\n",
       "      <td>3.15789473684%</td>\n",
       "      <td>18.1818181818%</td>\n",
       "    </tr>\n",
       "    <tr>\n",
       "      <th>2</th>\n",
       "      <td>docuseries</td>\n",
       "      <td>2.5641025641%</td>\n",
       "      <td>2.5641025641%</td>\n",
       "      <td>4.7619047619%</td>\n",
       "    </tr>\n",
       "    <tr>\n",
       "      <th>3</th>\n",
       "      <td>alternative</td>\n",
       "      <td>4.21686746988%</td>\n",
       "      <td>0.0%</td>\n",
       "      <td>0.0%</td>\n",
       "    </tr>\n",
       "  </tbody>\n",
       "</table>\n",
       "</div>"
      ],
      "text/plain": [
       "         Types Percent of Latino Topliners Percent of Latino Showrunners  \\\n",
       "0       comedy              25.7142857143%                2.85714285714%   \n",
       "1        drama                      18.75%                3.15789473684%   \n",
       "2   docuseries               2.5641025641%                 2.5641025641%   \n",
       "3  alternative              4.21686746988%                          0.0%   \n",
       "\n",
       "  Percent of Latino Directors  \n",
       "0              11.4285714286%  \n",
       "1              18.1818181818%  \n",
       "2               4.7619047619%  \n",
       "3                        0.0%  "
      ]
     },
     "execution_count": 23,
     "metadata": {},
     "output_type": "execute_result"
    }
   ],
   "source": [
    "df_genre_repre"
   ]
  },
  {
   "cell_type": "markdown",
   "metadata": {},
   "source": [
    "## Question: How does Latino representation measure up by Network Type? "
   ]
  },
  {
   "cell_type": "code",
   "execution_count": 24,
   "metadata": {},
   "outputs": [
    {
     "data": {
      "text/plain": [
       "Netflix                    43\n",
       "Food Network               16\n",
       "HGTV                       16\n",
       "Travel Channel             16\n",
       "CW                         15\n",
       "ABC                        14\n",
       "Investigation Discovery    14\n",
       "HBO                        11\n",
       "DISCOVERY CHANNEL          10\n",
       "TLC                        10\n",
       "VH1                        10\n",
       "INVESTIGATION DISCOVERY    10\n",
       "Amazon                     10\n",
       "CBS                         9\n",
       "USA                         8\n",
       "History                     8\n",
       "Discovery                   8\n",
       "FOX                         7\n",
       "NBC                         7\n",
       "AMC                         7\n",
       "Comedy Central              7\n",
       "Showtime                    7\n",
       "MTV                         6\n",
       "Paramount                   6\n",
       "Hulu                        6\n",
       "A&E                         6\n",
       "OWN                         5\n",
       "Netflix                     5\n",
       "FX                          5\n",
       "Bravo                       5\n",
       "E!                          4\n",
       "Starz                       4\n",
       "Hallmark                    3\n",
       "Lifetime                    3\n",
       "Freeform                    3\n",
       "LIFETIME                    3\n",
       "National Geographic         2\n",
       "NATIONAL GEOGRAPHIC         2\n",
       "Bravo                       1\n",
       "NATIONAL GEOGRAPHIC         1\n",
       " HGTV                       1\n",
       "Hulu                        1\n",
       "TLC                         1\n",
       "BRAVO                       1\n",
       "Nat Geo                     1\n",
       "Fox                         1\n",
       "STARZ                       1\n",
       "Name: network, dtype: int64"
      ]
     },
     "execution_count": 24,
     "metadata": {},
     "output_type": "execute_result"
    }
   ],
   "source": [
    "df['network'].value_counts()"
   ]
  },
  {
   "cell_type": "code",
   "execution_count": 25,
   "metadata": {},
   "outputs": [],
   "source": [
    "df['network'] = df['network'].astype(str)\n",
    "df['network'] = df['network'].apply(lambda x: x.lower())\n",
    "df['network'] = df['network'].apply(lambda x: x.strip())"
   ]
  },
  {
   "cell_type": "code",
   "execution_count": 26,
   "metadata": {},
   "outputs": [],
   "source": [
    "broad = ['nbc', 'cbs', 'abc', 'cw', 'fox']\n",
    "ott = ['amazon', 'hulu', 'netflix']\n",
    "premium = ['hbo', 'cinemax', 'showtime', 'starz', 'paramount']"
   ]
  },
  {
   "cell_type": "code",
   "execution_count": 27,
   "metadata": {},
   "outputs": [],
   "source": [
    "df_broad = df[df['network'].isin(broad)]\n",
    "df_ott = df[df['network'].isin(ott)]\n",
    "df_premium = df[df['network'].isin(premium)]\n",
    "df_cable = df[(~df['network'].isin(ott))&(~df['network'].isin(broad))&(~df['network'].isin(premium))]"
   ]
  },
  {
   "cell_type": "code",
   "execution_count": 28,
   "metadata": {},
   "outputs": [],
   "source": [
    "df_network = pd.DataFrame(columns = ['Types', 'Percent of Latino Topliners', 'Percent of Latino Showrunners', 'Percent of Latino Directors'])\n",
    "df_network = df_network.append({'Types': 'BraodCast', \\\n",
    "                     'Percent of Latino Topliners': str(np.mean(df_broad['topliners']*100)) + '%', \\\n",
    "                     'Percent of Latino Showrunners': str(np.mean(df_broad['showrunners']*100)) + '%', \\\n",
    "                     'Percent of Latino Directors': str(np.mean(df_broad['directors']*100)) + '%',\n",
    "                                           }, ignore_index=True)\n",
    "df_network = df_network.append({'Types': 'Premium', \\\n",
    "                     'Percent of Latino Topliners': str(np.mean(df_premium['topliners']*100)) + '%', \\\n",
    "                     'Percent of Latino Showrunners': str(np.mean(df_premium['showrunners']*100)) + '%', \\\n",
    "                     'Percent of Latino Directors': str(np.mean(df_premium['directors']*100)) + '%',\n",
    "                                           }, ignore_index=True)\n",
    "df_network = df_network.append({'Types': 'OTT', \\\n",
    "                     'Percent of Latino Topliners': str(np.mean(df_ott['topliners']*100)) + '%', \\\n",
    "                     'Percent of Latino Showrunners': str(np.mean(df_ott['showrunners']*100)) + '%', \\\n",
    "                     'Percent of Latino Directors': str(np.mean(df_ott['directors']*100)) + '%',\n",
    "                                           }, ignore_index=True)\n",
    "df_network = df_network.append({'Types': 'Cable', \\\n",
    "                     'Percent of Latino Topliners': str(np.mean(df_cable['topliners']*100)) + '%', \\\n",
    "                     'Percent of Latino Showrunners': str(np.mean(df_cable['showrunners']*100)) + '%', \\\n",
    "                     'Percent of Latino Directors': str(np.mean(df_cable['directors']*100)) + '%',\n",
    "                                           }, ignore_index=True)\n"
   ]
  },
  {
   "cell_type": "code",
   "execution_count": 29,
   "metadata": {},
   "outputs": [
    {
     "data": {
      "text/plain": [
       "netflix                    48\n",
       "investigation discovery    24\n",
       "hgtv                       17\n",
       "travel channel             16\n",
       "food network               16\n",
       "cw                         15\n",
       "abc                        14\n",
       "tlc                        11\n",
       "hbo                        11\n",
       "vh1                        10\n",
       "amazon                     10\n",
       "discovery channel          10\n",
       "cbs                         9\n",
       "discovery                   8\n",
       "usa                         8\n",
       "fox                         8\n",
       "history                     8\n",
       "nbc                         7\n",
       "bravo                       7\n",
       "comedy central              7\n",
       "showtime                    7\n",
       "hulu                        7\n",
       "amc                         7\n",
       "lifetime                    6\n",
       "paramount                   6\n",
       "a&e                         6\n",
       "mtv                         6\n",
       "fx                          5\n",
       "own                         5\n",
       "starz                       5\n",
       "national geographic         5\n",
       "e!                          4\n",
       "freeform                    3\n",
       "hallmark                    3\n",
       "nat geo                     1\n",
       "Name: network, dtype: int64"
      ]
     },
     "execution_count": 29,
     "metadata": {},
     "output_type": "execute_result"
    }
   ],
   "source": [
    "df['network'].value_counts()"
   ]
  },
  {
   "cell_type": "code",
   "execution_count": 30,
   "metadata": {},
   "outputs": [
    {
     "data": {
      "text/html": [
       "<div>\n",
       "<style scoped>\n",
       "    .dataframe tbody tr th:only-of-type {\n",
       "        vertical-align: middle;\n",
       "    }\n",
       "\n",
       "    .dataframe tbody tr th {\n",
       "        vertical-align: top;\n",
       "    }\n",
       "\n",
       "    .dataframe thead th {\n",
       "        text-align: right;\n",
       "    }\n",
       "</style>\n",
       "<table border=\"1\" class=\"dataframe\">\n",
       "  <thead>\n",
       "    <tr style=\"text-align: right;\">\n",
       "      <th></th>\n",
       "      <th>Types</th>\n",
       "      <th>Percent of Latino Topliners</th>\n",
       "      <th>Percent of Latino Showrunners</th>\n",
       "      <th>Percent of Latino Directors</th>\n",
       "    </tr>\n",
       "  </thead>\n",
       "  <tbody>\n",
       "    <tr>\n",
       "      <th>0</th>\n",
       "      <td>BraodCast</td>\n",
       "      <td>13.2075471698%</td>\n",
       "      <td>1.88679245283%</td>\n",
       "      <td>3.84615384615%</td>\n",
       "    </tr>\n",
       "    <tr>\n",
       "      <th>1</th>\n",
       "      <td>Premium</td>\n",
       "      <td>17.2413793103%</td>\n",
       "      <td>6.89655172414%</td>\n",
       "      <td>16.6666666667%</td>\n",
       "    </tr>\n",
       "    <tr>\n",
       "      <th>2</th>\n",
       "      <td>OTT</td>\n",
       "      <td>15.3846153846%</td>\n",
       "      <td>0.0%</td>\n",
       "      <td>9.52380952381%</td>\n",
       "    </tr>\n",
       "    <tr>\n",
       "      <th>3</th>\n",
       "      <td>Cable</td>\n",
       "      <td>6.77083333333%</td>\n",
       "      <td>1.0752688172%</td>\n",
       "      <td>9.33333333333%</td>\n",
       "    </tr>\n",
       "  </tbody>\n",
       "</table>\n",
       "</div>"
      ],
      "text/plain": [
       "       Types Percent of Latino Topliners Percent of Latino Showrunners  \\\n",
       "0  BraodCast              13.2075471698%                1.88679245283%   \n",
       "1    Premium              17.2413793103%                6.89655172414%   \n",
       "2        OTT              15.3846153846%                          0.0%   \n",
       "3      Cable              6.77083333333%                 1.0752688172%   \n",
       "\n",
       "  Percent of Latino Directors  \n",
       "0              3.84615384615%  \n",
       "1              16.6666666667%  \n",
       "2              9.52380952381%  \n",
       "3              9.33333333333%  "
      ]
     },
     "execution_count": 30,
     "metadata": {},
     "output_type": "execute_result"
    }
   ],
   "source": [
    "df_network"
   ]
  },
  {
   "cell_type": "code",
   "execution_count": 31,
   "metadata": {},
   "outputs": [],
   "source": [
    "frames = [df_shows, df_genre_repre, df_network]\n",
    "result = pd.concat(frames)\n",
    "result.to_csv('Final_numbers.csv')"
   ]
  }
 ],
 "metadata": {
  "kernelspec": {
   "display_name": "Python 2",
   "language": "python",
   "name": "python2"
  },
  "language_info": {
   "codemirror_mode": {
    "name": "ipython",
    "version": 2
   },
   "file_extension": ".py",
   "mimetype": "text/x-python",
   "name": "python",
   "nbconvert_exporter": "python",
   "pygments_lexer": "ipython2",
   "version": "2.7.16"
  }
 },
 "nbformat": 4,
 "nbformat_minor": 2
}
